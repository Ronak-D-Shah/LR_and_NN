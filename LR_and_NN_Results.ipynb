{
  "cells": [
    {
      "cell_type": "markdown",
      "metadata": {
        "id": "pxsNqb9E41tk"
      },
      "source": [
        "Tasks:\n",
        "\n",
        "1.   Import the three datasets (training, validation and test) into a google colab and analyze your given data set. Your target variable will be \"discr_r\".\n",
        "2.   Generate a Linear Regression model as a benchmark and evaluate it (for comparison the mean absolute error as a performance metric is suggested).\n",
        "3.   Generate a neural network with an arbitrary choice of hyperparameters in order to perform a comparable task to the linear regression model and evaluate it.\n",
        "4.   Compare the feature importance for the benchmark and the baseline neural network.\n",
        "5.   Perform hyperparameter tuning with Optuna in order to generate a better performing neural network.\n",
        "6.   Evaluate its results and compare them as well as the feature importance to the benchmark and the baseline neural network.\n",
        "7.   Describe your results for all three models and explain what your results means with respect to $(R_{Mt} - R_{ft})$ , SMB and HML."
      ]
    },
    {
      "cell_type": "markdown",
      "metadata": {
        "id": "3tzT1eTOy1WG"
      },
      "source": [
        "## Step **2**"
      ]
    },
    {
      "cell_type": "code",
      "execution_count": null,
      "metadata": {
        "colab": {
          "base_uri": "https://localhost:8080/",
          "height": 142
        },
        "id": "7-6bwG2PfjpA",
        "outputId": "b669fd3e-d297-44bb-fdd1-909a4e14078c"
      },
      "outputs": [
        {
          "output_type": "display_data",
          "data": {
            "text/plain": [
              "<IPython.core.display.HTML object>"
            ],
            "text/html": [
              "\n",
              "     <input type=\"file\" id=\"files-00ca7c55-d7c8-4e0a-a2fe-54268401da6d\" name=\"files[]\" multiple disabled\n",
              "        style=\"border:none\" />\n",
              "     <output id=\"result-00ca7c55-d7c8-4e0a-a2fe-54268401da6d\">\n",
              "      Upload widget is only available when the cell has been executed in the\n",
              "      current browser session. Please rerun this cell to enable.\n",
              "      </output>\n",
              "      <script>// Copyright 2017 Google LLC\n",
              "//\n",
              "// Licensed under the Apache License, Version 2.0 (the \"License\");\n",
              "// you may not use this file except in compliance with the License.\n",
              "// You may obtain a copy of the License at\n",
              "//\n",
              "//      http://www.apache.org/licenses/LICENSE-2.0\n",
              "//\n",
              "// Unless required by applicable law or agreed to in writing, software\n",
              "// distributed under the License is distributed on an \"AS IS\" BASIS,\n",
              "// WITHOUT WARRANTIES OR CONDITIONS OF ANY KIND, either express or implied.\n",
              "// See the License for the specific language governing permissions and\n",
              "// limitations under the License.\n",
              "\n",
              "/**\n",
              " * @fileoverview Helpers for google.colab Python module.\n",
              " */\n",
              "(function(scope) {\n",
              "function span(text, styleAttributes = {}) {\n",
              "  const element = document.createElement('span');\n",
              "  element.textContent = text;\n",
              "  for (const key of Object.keys(styleAttributes)) {\n",
              "    element.style[key] = styleAttributes[key];\n",
              "  }\n",
              "  return element;\n",
              "}\n",
              "\n",
              "// Max number of bytes which will be uploaded at a time.\n",
              "const MAX_PAYLOAD_SIZE = 100 * 1024;\n",
              "\n",
              "function _uploadFiles(inputId, outputId) {\n",
              "  const steps = uploadFilesStep(inputId, outputId);\n",
              "  const outputElement = document.getElementById(outputId);\n",
              "  // Cache steps on the outputElement to make it available for the next call\n",
              "  // to uploadFilesContinue from Python.\n",
              "  outputElement.steps = steps;\n",
              "\n",
              "  return _uploadFilesContinue(outputId);\n",
              "}\n",
              "\n",
              "// This is roughly an async generator (not supported in the browser yet),\n",
              "// where there are multiple asynchronous steps and the Python side is going\n",
              "// to poll for completion of each step.\n",
              "// This uses a Promise to block the python side on completion of each step,\n",
              "// then passes the result of the previous step as the input to the next step.\n",
              "function _uploadFilesContinue(outputId) {\n",
              "  const outputElement = document.getElementById(outputId);\n",
              "  const steps = outputElement.steps;\n",
              "\n",
              "  const next = steps.next(outputElement.lastPromiseValue);\n",
              "  return Promise.resolve(next.value.promise).then((value) => {\n",
              "    // Cache the last promise value to make it available to the next\n",
              "    // step of the generator.\n",
              "    outputElement.lastPromiseValue = value;\n",
              "    return next.value.response;\n",
              "  });\n",
              "}\n",
              "\n",
              "/**\n",
              " * Generator function which is called between each async step of the upload\n",
              " * process.\n",
              " * @param {string} inputId Element ID of the input file picker element.\n",
              " * @param {string} outputId Element ID of the output display.\n",
              " * @return {!Iterable<!Object>} Iterable of next steps.\n",
              " */\n",
              "function* uploadFilesStep(inputId, outputId) {\n",
              "  const inputElement = document.getElementById(inputId);\n",
              "  inputElement.disabled = false;\n",
              "\n",
              "  const outputElement = document.getElementById(outputId);\n",
              "  outputElement.innerHTML = '';\n",
              "\n",
              "  const pickedPromise = new Promise((resolve) => {\n",
              "    inputElement.addEventListener('change', (e) => {\n",
              "      resolve(e.target.files);\n",
              "    });\n",
              "  });\n",
              "\n",
              "  const cancel = document.createElement('button');\n",
              "  inputElement.parentElement.appendChild(cancel);\n",
              "  cancel.textContent = 'Cancel upload';\n",
              "  const cancelPromise = new Promise((resolve) => {\n",
              "    cancel.onclick = () => {\n",
              "      resolve(null);\n",
              "    };\n",
              "  });\n",
              "\n",
              "  // Wait for the user to pick the files.\n",
              "  const files = yield {\n",
              "    promise: Promise.race([pickedPromise, cancelPromise]),\n",
              "    response: {\n",
              "      action: 'starting',\n",
              "    }\n",
              "  };\n",
              "\n",
              "  cancel.remove();\n",
              "\n",
              "  // Disable the input element since further picks are not allowed.\n",
              "  inputElement.disabled = true;\n",
              "\n",
              "  if (!files) {\n",
              "    return {\n",
              "      response: {\n",
              "        action: 'complete',\n",
              "      }\n",
              "    };\n",
              "  }\n",
              "\n",
              "  for (const file of files) {\n",
              "    const li = document.createElement('li');\n",
              "    li.append(span(file.name, {fontWeight: 'bold'}));\n",
              "    li.append(span(\n",
              "        `(${file.type || 'n/a'}) - ${file.size} bytes, ` +\n",
              "        `last modified: ${\n",
              "            file.lastModifiedDate ? file.lastModifiedDate.toLocaleDateString() :\n",
              "                                    'n/a'} - `));\n",
              "    const percent = span('0% done');\n",
              "    li.appendChild(percent);\n",
              "\n",
              "    outputElement.appendChild(li);\n",
              "\n",
              "    const fileDataPromise = new Promise((resolve) => {\n",
              "      const reader = new FileReader();\n",
              "      reader.onload = (e) => {\n",
              "        resolve(e.target.result);\n",
              "      };\n",
              "      reader.readAsArrayBuffer(file);\n",
              "    });\n",
              "    // Wait for the data to be ready.\n",
              "    let fileData = yield {\n",
              "      promise: fileDataPromise,\n",
              "      response: {\n",
              "        action: 'continue',\n",
              "      }\n",
              "    };\n",
              "\n",
              "    // Use a chunked sending to avoid message size limits. See b/62115660.\n",
              "    let position = 0;\n",
              "    do {\n",
              "      const length = Math.min(fileData.byteLength - position, MAX_PAYLOAD_SIZE);\n",
              "      const chunk = new Uint8Array(fileData, position, length);\n",
              "      position += length;\n",
              "\n",
              "      const base64 = btoa(String.fromCharCode.apply(null, chunk));\n",
              "      yield {\n",
              "        response: {\n",
              "          action: 'append',\n",
              "          file: file.name,\n",
              "          data: base64,\n",
              "        },\n",
              "      };\n",
              "\n",
              "      let percentDone = fileData.byteLength === 0 ?\n",
              "          100 :\n",
              "          Math.round((position / fileData.byteLength) * 100);\n",
              "      percent.textContent = `${percentDone}% done`;\n",
              "\n",
              "    } while (position < fileData.byteLength);\n",
              "  }\n",
              "\n",
              "  // All done.\n",
              "  yield {\n",
              "    response: {\n",
              "      action: 'complete',\n",
              "    }\n",
              "  };\n",
              "}\n",
              "\n",
              "scope.google = scope.google || {};\n",
              "scope.google.colab = scope.google.colab || {};\n",
              "scope.google.colab._files = {\n",
              "  _uploadFiles,\n",
              "  _uploadFilesContinue,\n",
              "};\n",
              "})(self);\n",
              "</script> "
            ]
          },
          "metadata": {}
        },
        {
          "output_type": "stream",
          "name": "stdout",
          "text": [
            "Saving validation_data.csv to validation_data (3).csv\n",
            "Saving train_data.csv to train_data (3).csv\n",
            "Saving test_data.csv to test_data (3).csv\n"
          ]
        }
      ],
      "source": [
        "# upload files from local\n",
        "from google.colab import files\n",
        "uploaded = files.upload()"
      ]
    },
    {
      "cell_type": "code",
      "source": [
        "print(uploaded.keys())\n"
      ],
      "metadata": {
        "colab": {
          "base_uri": "https://localhost:8080/"
        },
        "id": "fqhtqptd_EuB",
        "outputId": "1847d9b0-79c6-4a5d-b638-caa463f95c5f"
      },
      "execution_count": null,
      "outputs": [
        {
          "output_type": "stream",
          "name": "stdout",
          "text": [
            "dict_keys(['validation_data (3).csv', 'train_data (3).csv', 'test_data (3).csv'])\n"
          ]
        }
      ]
    },
    {
      "cell_type": "code",
      "execution_count": null,
      "metadata": {
        "id": "J1GNC6Soy8lg"
      },
      "outputs": [],
      "source": [
        "import pandas as pd\n",
        "import numpy as np\n",
        "import seaborn as sns\n",
        "from matplotlib import pyplot as plt\n",
        "import io\n",
        "\n",
        "## assigment data from csv\n",
        "train_df = pd.read_csv(io.BytesIO(uploaded['train_data (3).csv']))\n",
        "val_df = pd.read_csv(io.BytesIO(uploaded['validation_data (3).csv']))\n",
        "test_df = pd.read_csv(io.BytesIO(uploaded['test_data (3).csv']))\n",
        "\n",
        "## set date to index\n",
        "train_df = train_df.rename(columns={\"Unnamed: 0\": \"date\"}).set_index(['date'], drop=True)\n",
        "val_df = val_df.rename(columns={\"Unnamed: 0\": \"date\"}).set_index(['date'], drop=True)\n",
        "test_df = test_df.rename(columns={\"Unnamed: 0\": \"date\"}).set_index(['date'], drop=True)\n"
      ]
    },
    {
      "cell_type": "code",
      "execution_count": null,
      "metadata": {
        "colab": {
          "base_uri": "https://localhost:8080/"
        },
        "id": "QqKDuTrlk4Ap",
        "outputId": "95069419-ad9c-41ab-cf1a-4a95112a5df3"
      },
      "outputs": [
        {
          "output_type": "stream",
          "name": "stdout",
          "text": [
            "<class 'pandas.core.frame.DataFrame'>\n",
            "Index: 4302 entries, 2019-06-30 to 2019-06-30\n",
            "Data columns (total 4 columns):\n",
            " #   Column          Non-Null Count  Dtype  \n",
            "---  ------          --------------  -----  \n",
            " 0   book_to_market  4302 non-null   float64\n",
            " 1   market_cap      4302 non-null   float64\n",
            " 2   beta            4302 non-null   float64\n",
            " 3   discr_r         4302 non-null   float64\n",
            "dtypes: float64(4)\n",
            "memory usage: 168.0+ KB\n",
            "\n",
            "\n",
            "<class 'pandas.core.frame.DataFrame'>\n",
            "Index: 4335 entries, 2019-07-31 to 2019-07-31\n",
            "Data columns (total 4 columns):\n",
            " #   Column          Non-Null Count  Dtype  \n",
            "---  ------          --------------  -----  \n",
            " 0   book_to_market  4335 non-null   float64\n",
            " 1   market_cap      4335 non-null   float64\n",
            " 2   beta            4335 non-null   float64\n",
            " 3   discr_r         4335 non-null   float64\n",
            "dtypes: float64(4)\n",
            "memory usage: 169.3+ KB\n",
            "\n",
            "\n",
            "<class 'pandas.core.frame.DataFrame'>\n",
            "Index: 4348 entries, 2019-08-31 to 2019-08-31\n",
            "Data columns (total 4 columns):\n",
            " #   Column          Non-Null Count  Dtype  \n",
            "---  ------          --------------  -----  \n",
            " 0   book_to_market  4348 non-null   float64\n",
            " 1   market_cap      4348 non-null   float64\n",
            " 2   beta            4348 non-null   float64\n",
            " 3   discr_r         4348 non-null   float64\n",
            "dtypes: float64(4)\n",
            "memory usage: 169.8+ KB\n"
          ]
        }
      ],
      "source": [
        "train_df.info()\n",
        "print(\"\\n\")\n",
        "val_df.info()\n",
        "print(\"\\n\")\n",
        "test_df.info()"
      ]
    },
    {
      "cell_type": "markdown",
      "metadata": {
        "id": "S5DZ3hIDlUNa"
      },
      "source": [
        "#####We have confirmed that there is no outlier Dtype. Therefore, no need to do any conversion.\n",
        "#####There is no row with a null value.\n",
        "\n",
        "\n",
        "#####In the next step, we will examine the correlation between columns.\n",
        "*   If the correlation value for two columns is close to 1, it is expected that the data in this column will affect each other negatively-positively.\n",
        "\n",
        "\n",
        "\n",
        "\n",
        "\n"
      ]
    },
    {
      "cell_type": "code",
      "execution_count": null,
      "metadata": {
        "colab": {
          "base_uri": "https://localhost:8080/",
          "height": 452
        },
        "id": "dYhHYb1m3FQ2",
        "outputId": "b0f93463-2e7c-4e32-b71e-cf5dc5b024ee"
      },
      "outputs": [
        {
          "output_type": "execute_result",
          "data": {
            "text/plain": [
              "<Axes: >"
            ]
          },
          "metadata": {},
          "execution_count": 14
        },
        {
          "output_type": "display_data",
          "data": {
            "text/plain": [
              "<Figure size 640x480 with 2 Axes>"
            ],
            "image/png": "[encoded data removed]"
          },
          "metadata": {}
        }
      ],
      "source": [
        "## train data correlations\n",
        "sns.heatmap(train_df.corr(), cmap=\"crest\", annot=True, linewidth=.5)\n",
        "# There is a possitive weak correlation between beta and discr_r (target).\n",
        "# There is a negative very weak correlation between market_cap and discr_r (target).\n",
        "# There is a possitive very weak correlation between book_to_market and discr_r (target)."
      ]
    },
    {
      "cell_type": "code",
      "execution_count": null,
      "metadata": {
        "colab": {
          "base_uri": "https://localhost:8080/",
          "height": 452
        },
        "id": "KTG1kShu1cRf",
        "outputId": "820470c2-c843-48e3-c6e4-60113786df01"
      },
      "outputs": [
        {
          "output_type": "execute_result",
          "data": {
            "text/plain": [
              "<Axes: >"
            ]
          },
          "metadata": {},
          "execution_count": 15
        },
        {
          "output_type": "display_data",
          "data": {
            "text/plain": [
              "<Figure size 640x480 with 2 Axes>"
            ],
            "image/png": "[encoded data removed]"
          },
          "metadata": {}
        }
      ],
      "source": [
        "##test data correlations\n",
        "sns.heatmap(test_df.corr(), cmap=\"crest\", annot=True, linewidth=.5)\n",
        "# There is a negative weak correlation between beta and discr_r (target).\n",
        "# There is a positive very weak correlation between market_cap and discr_r (target).\n",
        "# There is a negative very weak correlation between book_to_market and discr_r (target)."
      ]
    },
    {
      "cell_type": "code",
      "execution_count": null,
      "metadata": {
        "colab": {
          "base_uri": "https://localhost:8080/",
          "height": 452
        },
        "id": "a93TqO04eFAD",
        "outputId": "c62112c9-8696-4a54-ac1b-49fa998f2262"
      },
      "outputs": [
        {
          "output_type": "execute_result",
          "data": {
            "text/plain": [
              "<Axes: >"
            ]
          },
          "metadata": {},
          "execution_count": 16
        },
        {
          "output_type": "display_data",
          "data": {
            "text/plain": [
              "<Figure size 640x480 with 2 Axes>"
            ],
            "image/png": "[encoded data removed]"
          },
          "metadata": {}
        }
      ],
      "source": [
        "##val_df data correlations\n",
        "sns.heatmap(val_df.corr(), cmap=\"crest\", annot=True, linewidth=.5)\n",
        "# There is a negative very weak correlation between beta and discr_r (target).\n",
        "# There is a positive very weak correlation between market_cap and discr_r (target).\n",
        "# There is a negative very weak correlation between book_to_market and discr_r (target)."
      ]
    },
    {
      "cell_type": "code",
      "execution_count": null,
      "metadata": {
        "id": "BO2Ffb6gn-od"
      },
      "outputs": [],
      "source": [
        "#define train,val,test variables and target\n",
        "X_train = train_df[[\"book_to_market\",\"market_cap\",\"beta\"]]\n",
        "y_train = train_df[\"discr_r\"]\n",
        "\n",
        "X_val = val_df[[\"book_to_market\",\"market_cap\",\"beta\"]]\n",
        "y_val = val_df[\"discr_r\"]\n",
        "\n",
        "X_test = test_df[[\"book_to_market\",\"market_cap\",\"beta\"]]\n",
        "y_test = test_df[\"discr_r\"]"
      ]
    },
    {
      "cell_type": "code",
      "execution_count": null,
      "metadata": {
        "id": "Y3RTz-IUd75z"
      },
      "outputs": [],
      "source": [
        "from sklearn.preprocessing import StandardScaler\n",
        "scaler = StandardScaler()\n",
        "scaler.fit(X_train)\n",
        "X_train_s, X_test_s, X_val_s = scaler.transform(X_train), scaler.transform(X_test), scaler.transform(X_val)"
      ]
    },
    {
      "cell_type": "markdown",
      "metadata": {
        "id": "8UL0T9NFy6bi"
      },
      "source": [
        "# step 3"
      ]
    },
    {
      "cell_type": "code",
      "execution_count": null,
      "metadata": {
        "id": "I1sq9Huhg9tV"
      },
      "outputs": [],
      "source": [
        "from sklearn.linear_model import LinearRegression\n",
        "from sklearn.metrics import r2_score\n",
        "\n",
        "# Train the model on the training data\n",
        "log_reg = LinearRegression()\n",
        "log_reg.fit(X_train_s, y_train)\n",
        "\n",
        "# Make predictions on the test data\n",
        "y_test_pred = log_reg.predict(X_test_s)"
      ]
    },
    {
      "cell_type": "markdown",
      "metadata": {
        "id": "skfLYJ_DuiIS"
      },
      "source": [
        "### Mean-Absolute-Error"
      ]
    },
    {
      "cell_type": "code",
      "execution_count": null,
      "metadata": {
        "colab": {
          "base_uri": "https://localhost:8080/"
        },
        "id": "kYsu_YVF33jk",
        "outputId": "fac40665-58df-49b8-c0c5-557929cd506f"
      },
      "outputs": [
        {
          "output_type": "stream",
          "name": "stdout",
          "text": [
            "0.13710582505046462\n"
          ]
        }
      ],
      "source": [
        "from sklearn.metrics import mean_absolute_error\n",
        "\n",
        "# Calculate the mean squared error\n",
        "lr_mae = mean_absolute_error(y_test_pred, y_test)\n",
        "\n",
        "print(lr_mae)"
      ]
    },
    {
      "cell_type": "code",
      "execution_count": null,
      "metadata": {
        "colab": {
          "base_uri": "https://localhost:8080/"
        },
        "id": "a4dtVfVCn7--",
        "outputId": "e1735e80-3705-4af7-ac41-24f06ac52d27"
      },
      "outputs": [
        {
          "output_type": "stream",
          "name": "stdout",
          "text": [
            "Test R2 score:-0.4750\n"
          ]
        }
      ],
      "source": [
        "lr_r2_score = r2_score(y_test, y_test_pred)\n",
        "print(f'Test R2 score:{lr_r2_score:.4f}')\n"
      ]
    },
    {
      "cell_type": "code",
      "execution_count": null,
      "metadata": {
        "colab": {
          "base_uri": "https://localhost:8080/"
        },
        "id": "7r9iXDXoqn5I",
        "outputId": "82ebbd2c-a3a2-445a-9d4a-47042789c2d3"
      },
      "outputs": [
        {
          "output_type": "execute_result",
          "data": {
            "text/plain": [
              "Text(0, 0.5, 'realizations')"
            ]
          },
          "metadata": {},
          "execution_count": 22
        },
        {
          "output_type": "display_data",
          "data": {
            "text/plain": [
              "<Figure size 640x480 with 1 Axes>"
            ],
            "image/png": "[encoded data removed]"
          },
          "metadata": {}
        }
      ],
      "source": [
        "fig,axs = plt.subplots()\n",
        "axs.scatter(y_test_pred,y_test)\n",
        "axs.plot([0,1],[0,1], transform=axs.transAxes, c=\"orange\")\n",
        "axs.set_xlabel(\"predictions\")\n",
        "axs.set_ylabel(\"realizations\")"
      ]
    },
    {
      "cell_type": "markdown",
      "metadata": {
        "id": "zhBdSbqX53lp"
      },
      "source": [
        "# step 4"
      ]
    },
    {
      "cell_type": "code",
      "execution_count": null,
      "metadata": {
        "id": "LHgBFXitbzIH"
      },
      "outputs": [],
      "source": [
        "output_fun = 'linear'"
      ]
    },
    {
      "cell_type": "code",
      "execution_count": null,
      "metadata": {
        "colab": {
          "base_uri": "https://localhost:8080/"
        },
        "id": "T_dfTz8t6NHa",
        "outputId": "653ce961-f78a-41d3-96b0-6e4a3f573f89"
      },
      "outputs": [
        {
          "output_type": "stream",
          "name": "stdout",
          "text": [
            "Epoch 1/25\n",
            "135/135 [==============================] - 2s 9ms/step - loss: 0.0215 - val_loss: 0.0240\n",
            "Epoch 2/25\n",
            "135/135 [==============================] - 1s 4ms/step - loss: 0.0213 - val_loss: 0.0204\n",
            "Epoch 3/25\n",
            "135/135 [==============================] - 1s 4ms/step - loss: 0.0211 - val_loss: 0.0236\n",
            "Epoch 4/25\n",
            "135/135 [==============================] - 0s 4ms/step - loss: 0.0209 - val_loss: 0.0210\n",
            "Epoch 5/25\n",
            "135/135 [==============================] - 1s 5ms/step - loss: 0.0209 - val_loss: 0.0227\n",
            "Epoch 6/25\n",
            "135/135 [==============================] - 0s 4ms/step - loss: 0.0210 - val_loss: 0.0274\n",
            "Epoch 7/25\n",
            "135/135 [==============================] - 0s 3ms/step - loss: 0.0208 - val_loss: 0.0204\n",
            "Epoch 8/25\n",
            "135/135 [==============================] - 0s 3ms/step - loss: 0.0208 - val_loss: 0.0233\n",
            "Epoch 9/25\n",
            "135/135 [==============================] - 0s 4ms/step - loss: 0.0208 - val_loss: 0.0237\n",
            "Epoch 10/25\n",
            "135/135 [==============================] - 0s 3ms/step - loss: 0.0207 - val_loss: 0.0232\n",
            "Epoch 11/25\n",
            "135/135 [==============================] - 1s 5ms/step - loss: 0.0207 - val_loss: 0.0205\n",
            "Epoch 12/25\n",
            "135/135 [==============================] - 1s 5ms/step - loss: 0.0206 - val_loss: 0.0225\n",
            "Epoch 13/25\n",
            "135/135 [==============================] - 1s 5ms/step - loss: 0.0207 - val_loss: 0.0233\n",
            "Epoch 14/25\n",
            "135/135 [==============================] - 0s 3ms/step - loss: 0.0207 - val_loss: 0.0221\n",
            "Epoch 15/25\n",
            "135/135 [==============================] - 0s 3ms/step - loss: 0.0207 - val_loss: 0.0206\n",
            "Epoch 16/25\n",
            "135/135 [==============================] - 1s 4ms/step - loss: 0.0207 - val_loss: 0.0251\n",
            "Epoch 17/25\n",
            "135/135 [==============================] - 1s 5ms/step - loss: 0.0206 - val_loss: 0.0253\n",
            "Epoch 18/25\n",
            "135/135 [==============================] - 1s 5ms/step - loss: 0.0206 - val_loss: 0.0211\n",
            "Epoch 19/25\n",
            "135/135 [==============================] - 1s 4ms/step - loss: 0.0206 - val_loss: 0.0204\n",
            "Epoch 20/25\n",
            "135/135 [==============================] - 1s 6ms/step - loss: 0.0206 - val_loss: 0.0212\n",
            "Epoch 21/25\n",
            "135/135 [==============================] - 1s 7ms/step - loss: 0.0206 - val_loss: 0.0224\n",
            "Epoch 22/25\n",
            "135/135 [==============================] - 1s 6ms/step - loss: 0.0206 - val_loss: 0.0223\n",
            "Epoch 23/25\n",
            "135/135 [==============================] - 1s 4ms/step - loss: 0.0206 - val_loss: 0.0228\n",
            "Epoch 24/25\n",
            "135/135 [==============================] - 2s 16ms/step - loss: 0.0206 - val_loss: 0.0218\n",
            "Epoch 25/25\n",
            "135/135 [==============================] - 1s 6ms/step - loss: 0.0206 - val_loss: 0.0236\n"
          ]
        }
      ],
      "source": [
        "import tensorflow as tf\n",
        "from tensorflow import keras\n",
        "from keras import Sequential\n",
        "from keras.layers import Dense, Input\n",
        "\n",
        "model = tf.keras.Sequential([\n",
        "    tf.keras.layers.InputLayer(input_shape=(X_train_s.shape[1])),\n",
        "    tf.keras.layers.Dense(20, activation='tanh', name='hidden_layer_1'),\n",
        "    tf.keras.layers.Dense(20, activation='tanh', name='hidden_layer_2'),\n",
        "    tf.keras.layers.Dense(10, activation='tanh', name='hidden_layer_3'),\n",
        "    tf.keras.layers.Dense(5, activation='tanh', name='hidden_layer_4'),\n",
        "    tf.keras.layers.Dense(1, activation=output_fun)\n",
        "])\n",
        "\n",
        "model.compile(loss='mean_squared_error', optimizer= \"RMSprop\")\n",
        "history_nn = model.fit(X_train_s,\n",
        "          y_train,\n",
        "          epochs = 25,\n",
        "          validation_data=(X_val_s, y_val))"
      ]
    },
    {
      "cell_type": "code",
      "execution_count": null,
      "metadata": {
        "colab": {
          "base_uri": "https://localhost:8080/",
          "height": 564
        },
        "id": "alQ6y1oC_nbP",
        "outputId": "de020e89-c40b-4097-9e54-bc9b1a9003e2"
      },
      "outputs": [
        {
          "output_type": "display_data",
          "data": {
            "text/plain": [
              "<Figure size 600x600 with 1 Axes>"
            ],
            "image/png": "[encoded data removed]"
          },
          "metadata": {}
        }
      ],
      "source": [
        "fig = plt.figure(figsize=(6,6))\n",
        "\n",
        "# summarize history for loss\n",
        "plt.plot(history_nn.history['loss'], label=\"training\")\n",
        "plt.plot(history_nn.history['val_loss'], label=\"validation\")\n",
        "plt.title('model training')\n",
        "plt.ylabel('loss')\n",
        "plt.xlabel('epoch')\n",
        "plt.legend()\n",
        "plt.show()"
      ]
    },
    {
      "cell_type": "markdown",
      "metadata": {
        "id": "BlPaL7CtxqAw"
      },
      "source": [
        "### Mean-Absolute-Error"
      ]
    },
    {
      "cell_type": "code",
      "execution_count": null,
      "metadata": {
        "colab": {
          "base_uri": "https://localhost:8080/"
        },
        "id": "ciSan15-_-5o",
        "outputId": "b4d8e588-ca4f-42b6-ef8e-44e83363bf52"
      },
      "outputs": [
        {
          "output_type": "stream",
          "name": "stdout",
          "text": [
            "136/136 [==============================] - 0s 2ms/step\n",
            "0.14104282506248952\n"
          ]
        }
      ],
      "source": [
        "y_nn_test_pred = model.predict(X_test_s)\n",
        "nn_mae = mean_absolute_error(y_nn_test_pred, y_test)\n",
        "print(nn_mae)"
      ]
    },
    {
      "cell_type": "code",
      "execution_count": null,
      "metadata": {
        "colab": {
          "base_uri": "https://localhost:8080/"
        },
        "id": "kx6p1z8Cq-EH",
        "outputId": "e54d696e-a097-4b1f-ccdb-1a28d5676fdc"
      },
      "outputs": [
        {
          "output_type": "stream",
          "name": "stdout",
          "text": [
            "Test R2 score:-0.5508\n"
          ]
        }
      ],
      "source": [
        "nn_r2_score = r2_score(y_test, y_nn_test_pred)\n",
        "print(f'Test R2 score:{nn_r2_score:.4f}')"
      ]
    },
    {
      "cell_type": "code",
      "execution_count": null,
      "metadata": {
        "colab": {
          "base_uri": "https://localhost:8080/",
          "height": 466
        },
        "id": "GdMezpLErJWg",
        "outputId": "f19d9104-a43b-42d1-86bd-721d7ae76c4c"
      },
      "outputs": [
        {
          "output_type": "execute_result",
          "data": {
            "text/plain": [
              "Text(0, 0.5, 'realizations')"
            ]
          },
          "metadata": {},
          "execution_count": 28
        },
        {
          "output_type": "display_data",
          "data": {
            "text/plain": [
              "<Figure size 640x480 with 1 Axes>"
            ],
            "image/png": "[encoded data removed]"
          },
          "metadata": {}
        }
      ],
      "source": [
        "fig,axs = plt.subplots()\n",
        "axs.scatter(y_nn_test_pred,y_test)\n",
        "axs.plot([0,1],[0,1], transform=axs.transAxes, c=\"orange\")\n",
        "axs.set_xlabel(\"predictions\")\n",
        "axs.set_ylabel(\"realizations\")"
      ]
    },
    {
      "cell_type": "markdown",
      "metadata": {
        "id": "qqbvqAtBHW9u"
      },
      "source": [
        "Compare **mean absolute error of neural network** and  **mean absolute error of linear regression**. (Closer to 0 is a better result.)"
      ]
    },
    {
      "cell_type": "code",
      "execution_count": null,
      "metadata": {
        "colab": {
          "base_uri": "https://localhost:8080/"
        },
        "id": "fZj_BzVSHtuM",
        "outputId": "0843e8e6-8420-47d1-8d86-4bcb35c3ab70"
      },
      "outputs": [
        {
          "output_type": "stream",
          "name": "stdout",
          "text": [
            "mean_absolute_error of neural network: 0.14104282506248952\n",
            "\n",
            "mean_absolute_error of linear regression: 0.13710582505046462\n"
          ]
        }
      ],
      "source": [
        "print(\"mean_absolute_error of neural network: \" + str(nn_mae)+ \"\\n\")\n",
        "print(\"mean_absolute_error of linear regression: \" + str(lr_mae))"
      ]
    },
    {
      "cell_type": "markdown",
      "metadata": {
        "id": "aXg2T8H9IgeN"
      },
      "source": [
        "####Result of Step 4\n",
        "1.   Both models are well-trained and return results with a low margin of error.\n",
        "2.   The neural network model gives better result than the linear regression model.\n",
        "\n",
        "\n"
      ]
    },
    {
      "cell_type": "markdown",
      "metadata": {
        "id": "k-gqx4Mx4tO7"
      },
      "source": [
        "# Step 5"
      ]
    },
    {
      "cell_type": "markdown",
      "metadata": {
        "id": "xQe6l7QMuWc7"
      },
      "source": [
        "### Feature Importance\n",
        "####Define the feature_analysis"
      ]
    },
    {
      "cell_type": "code",
      "execution_count": null,
      "metadata": {
        "id": "55uHhTNwuVZb"
      },
      "outputs": [],
      "source": [
        "import pandas as pd\n",
        "import numpy as np\n",
        "from scipy.stats import mode\n",
        "\n",
        "# a function for feature analysis\n",
        "def feature_analysis(X, nn, feature_names):\n",
        "    # determine first and second partial derivatives\n",
        "    with tf.GradientTape() as snd:\n",
        "        snd.watch(X)\n",
        "        with tf.GradientTape() as fst:\n",
        "            fst.watch(X)\n",
        "            # prediction with the neural network, i.e., f(X)\n",
        "            pred = nn(X)\n",
        "        # gradient\n",
        "        g = fst.gradient(pred, X)\n",
        "    # jacobian which outputs Hessian matrix\n",
        "    h = snd.batch_jacobian(g, X)\n",
        "\n",
        "    # first partial derivatives\n",
        "    g_np = g.numpy()\n",
        "    # average squard partial derivatives\n",
        "    g_mag_sq = (g_np**2).mean(axis = 0)\n",
        "    # square root of average squard partial derivatives\n",
        "    g_mag = np.sqrt(g_mag_sq)\n",
        "    # sign of average partial derivatives\n",
        "    g_dir = np.sign(g_np.mean(axis = 0))\n",
        "\n",
        "    # normalizing constant\n",
        "    C_ = np.sum(g_mag)\n",
        "    # normalized feature importance with sign\n",
        "    fi = (g_mag * g_dir) / C_\n",
        "\n",
        "    # get signs of each sample\n",
        "    fi_signs = np.sign(g_np)\n",
        "    # the mode is the sign which can be observed most often among all samples, the counts is how often this sign is observed\n",
        "    fi_modes, fi_counts = mode(fi_signs)\n",
        "    # dividing the count of the sign which is observed most often by the overall sample size gives us a frequency measure\n",
        "    # which is closer to one, the higher the conformity of the sign\n",
        "    fi_conformity = fi_counts / g_np.shape[0] #fi_modes *\n",
        "\n",
        "    # in analogy to the calculation above, we do the same thing with the second partial derivatives\n",
        "    h_np = h.numpy()\n",
        "    # get the square root of average squared direction of curvature and interactions\n",
        "    h_mag_sq = (h_np**2).mean(axis = 0)\n",
        "    h_mag = np.sqrt(h_mag_sq)\n",
        "\n",
        "    # the the sign of average curvature and interactions\n",
        "    h_dir = np.sign(h_np.mean(axis = 0))\n",
        "\n",
        "    # normalize the values on the diagonal line to compare the degree of non-linearity\n",
        "    C_nonlin = np.sum(h_mag.diagonal())\n",
        "    nonlinearity = (h_dir.diagonal() * h_mag.diagonal()) / C_nonlin\n",
        "\n",
        "    # normlize the interactions\n",
        "    lti = np.tril_indices(h_mag.shape[0], k = -1)\n",
        "    C_ia = np.sum(h_mag[lti])\n",
        "    interactions = (h_mag[lti] * h_dir[lti]) / C_ia\n",
        "\n",
        "    # bring curvature and interaction effects back to matrix format\n",
        "    snd_degree_summary = np.diag(nonlinearity)\n",
        "    a, b = lti\n",
        "    inter_iter = iter(interactions)\n",
        "    for i, j in zip(a, b):\n",
        "        snd_degree_summary[i, j] = next(inter_iter)\n",
        "        snd_degree_summary[j, i] = snd_degree_summary[i, j]\n",
        "\n",
        "    # get the conformity of second order effects\n",
        "    snd_signs = np.sign(h_np)\n",
        "    snd_degree_modes, snd_degreee_counts = mode(snd_signs)\n",
        "    snd_degree_conformity = snd_degreee_counts / h_np.shape[0] #snd_degree_modes *\n",
        "\n",
        "    # finally summarize feature importances and second order effects\n",
        "    summary = pd.DataFrame(data = snd_degree_summary, index = feature_names, columns = feature_names)\n",
        "    summary.loc[:, 'feature_importance'] = fi\n",
        "    # as well as their conformity\n",
        "    summary_conformity = pd.DataFrame(data = snd_degree_conformity.reshape(h_np.shape[1], h_np.shape[2]), index = feature_names, columns = feature_names)\n",
        "    summary_conformity.loc[:, 'feature_importance'] = fi_conformity.flatten()\n",
        "\n",
        "    return summary, summary_conformity"
      ]
    },
    {
      "cell_type": "code",
      "execution_count": null,
      "metadata": {
        "id": "4ERPmOb7PH1f"
      },
      "outputs": [],
      "source": [
        "X_test_tensor = tf.Variable(X_test_s)\n",
        "sum_test_nn, sum_c_test_nn = feature_analysis(X_test_tensor, model, X_test.columns)"
      ]
    },
    {
      "cell_type": "code",
      "execution_count": null,
      "metadata": {
        "colab": {
          "base_uri": "https://localhost:8080/"
        },
        "id": "Y9pmd07O6Ymq",
        "outputId": "09345c20-6cc7-4ac9-8f08-758519b3db08"
      },
      "outputs": [
        {
          "output_type": "execute_result",
          "data": {
            "text/plain": [
              "book_to_market   -0.152770\n",
              "market_cap        0.324548\n",
              "beta              0.522682\n",
              "Name: feature_importance, dtype: float64"
            ]
          },
          "metadata": {},
          "execution_count": 32
        }
      ],
      "source": [
        "sum_test_nn[\"feature_importance\"]"
      ]
    },
    {
      "cell_type": "code",
      "execution_count": null,
      "metadata": {
        "colab": {
          "base_uri": "https://localhost:8080/"
        },
        "id": "tX41_BHe6gZe",
        "outputId": "6db86b17-21af-4149-9543-ba4dfc3858cb"
      },
      "outputs": [
        {
          "output_type": "execute_result",
          "data": {
            "text/plain": [
              "                book_to_market  market_cap      beta  feature_importance\n",
              "book_to_market        0.501840    0.531279  0.573137             0.99586\n",
              "market_cap            0.531279    0.628565  0.722171             0.99126\n",
              "beta                  0.573137    0.722171  0.563707             0.99931"
            ],
            "text/html": [
              "\n",
              "  <div id=\"df-9899d194-b5c4-45da-8695-166c1b41a618\" class=\"colab-df-container\">\n",
              "    <div>\n",
              "<style scoped>\n",
              "    .dataframe tbody tr th:only-of-type {\n",
              "        vertical-align: middle;\n",
              "    }\n",
              "\n",
              "    .dataframe tbody tr th {\n",
              "        vertical-align: top;\n",
              "    }\n",
              "\n",
              "    .dataframe thead th {\n",
              "        text-align: right;\n",
              "    }\n",
              "</style>\n",
              "<table border=\"1\" class=\"dataframe\">\n",
              "  <thead>\n",
              "    <tr style=\"text-align: right;\">\n",
              "      <th></th>\n",
              "      <th>book_to_market</th>\n",
              "      <th>market_cap</th>\n",
              "      <th>beta</th>\n",
              "      <th>feature_importance</th>\n",
              "    </tr>\n",
              "  </thead>\n",
              "  <tbody>\n",
              "    <tr>\n",
              "      <th>book_to_market</th>\n",
              "      <td>0.501840</td>\n",
              "      <td>0.531279</td>\n",
              "      <td>0.573137</td>\n",
              "      <td>0.99586</td>\n",
              "    </tr>\n",
              "    <tr>\n",
              "      <th>market_cap</th>\n",
              "      <td>0.531279</td>\n",
              "      <td>0.628565</td>\n",
              "      <td>0.722171</td>\n",
              "      <td>0.99126</td>\n",
              "    </tr>\n",
              "    <tr>\n",
              "      <th>beta</th>\n",
              "      <td>0.573137</td>\n",
              "      <td>0.722171</td>\n",
              "      <td>0.563707</td>\n",
              "      <td>0.99931</td>\n",
              "    </tr>\n",
              "  </tbody>\n",
              "</table>\n",
              "</div>\n",
              "    <div class=\"colab-df-buttons\">\n",
              "\n",
              "  <div class=\"colab-df-container\">\n",
              "    <button class=\"colab-df-convert\" onclick=\"convertToInteractive('df-9899d194-b5c4-45da-8695-166c1b41a618')\"\n",
              "            title=\"Convert this dataframe to an interactive table.\"\n",
              "            style=\"display:none;\">\n",
              "\n",
              "  <svg xmlns=\"http://www.w3.org/2000/svg\" height=\"24px\" viewBox=\"0 -960 960 960\">\n",
              "    <path d=\"M120-120v-720h720v720H120Zm60-500h600v-160H180v160Zm220 220h160v-160H400v160Zm0 220h160v-160H400v160ZM180-400h160v-160H180v160Zm440 0h160v-160H620v160ZM180-180h160v-160H180v160Zm440 0h160v-160H620v160Z\"/>\n",
              "  </svg>\n",
              "    </button>\n",
              "\n",
              "  <style>\n",
              "    .colab-df-container {\n",
              "      display:flex;\n",
              "      gap: 12px;\n",
              "    }\n",
              "\n",
              "    .colab-df-convert {\n",
              "      background-color: #E8F0FE;\n",
              "      border: none;\n",
              "      border-radius: 50%;\n",
              "      cursor: pointer;\n",
              "      display: none;\n",
              "      fill: #1967D2;\n",
              "      height: 32px;\n",
              "      padding: 0 0 0 0;\n",
              "      width: 32px;\n",
              "    }\n",
              "\n",
              "    .colab-df-convert:hover {\n",
              "      background-color: #E2EBFA;\n",
              "      box-shadow: 0px 1px 2px rgba(60, 64, 67, 0.3), 0px 1px 3px 1px rgba(60, 64, 67, 0.15);\n",
              "      fill: #174EA6;\n",
              "    }\n",
              "\n",
              "    .colab-df-buttons div {\n",
              "      margin-bottom: 4px;\n",
              "    }\n",
              "\n",
              "    [theme=dark] .colab-df-convert {\n",
              "      background-color: #3B4455;\n",
              "      fill: #D2E3FC;\n",
              "    }\n",
              "\n",
              "    [theme=dark] .colab-df-convert:hover {\n",
              "      background-color: #434B5C;\n",
              "      box-shadow: 0px 1px 3px 1px rgba(0, 0, 0, 0.15);\n",
              "      filter: drop-shadow(0px 1px 2px rgba(0, 0, 0, 0.3));\n",
              "      fill: #FFFFFF;\n",
              "    }\n",
              "  </style>\n",
              "\n",
              "    <script>\n",
              "      const buttonEl =\n",
              "        document.querySelector('#df-9899d194-b5c4-45da-8695-166c1b41a618 button.colab-df-convert');\n",
              "      buttonEl.style.display =\n",
              "        google.colab.kernel.accessAllowed ? 'block' : 'none';\n",
              "\n",
              "      async function convertToInteractive(key) {\n",
              "        const element = document.querySelector('#df-9899d194-b5c4-45da-8695-166c1b41a618');\n",
              "        const dataTable =\n",
              "          await google.colab.kernel.invokeFunction('convertToInteractive',\n",
              "                                                    [key], {});\n",
              "        if (!dataTable) return;\n",
              "\n",
              "        const docLinkHtml = 'Like what you see? Visit the ' +\n",
              "          '<a target=\"_blank\" href=https://colab.research.google.com/notebooks/data_table.ipynb>data table notebook</a>'\n",
              "          + ' to learn more about interactive tables.';\n",
              "        element.innerHTML = '';\n",
              "        dataTable['output_type'] = 'display_data';\n",
              "        await google.colab.output.renderOutput(dataTable, element);\n",
              "        const docLink = document.createElement('div');\n",
              "        docLink.innerHTML = docLinkHtml;\n",
              "        element.appendChild(docLink);\n",
              "      }\n",
              "    </script>\n",
              "  </div>\n",
              "\n",
              "\n",
              "<div id=\"df-79574cb4-67c9-4256-9b98-17c1eb71779f\">\n",
              "  <button class=\"colab-df-quickchart\" onclick=\"quickchart('df-79574cb4-67c9-4256-9b98-17c1eb71779f')\"\n",
              "            title=\"Suggest charts\"\n",
              "            style=\"display:none;\">\n",
              "\n",
              "<svg xmlns=\"http://www.w3.org/2000/svg\" height=\"24px\"viewBox=\"0 0 24 24\"\n",
              "     width=\"24px\">\n",
              "    <g>\n",
              "        <path d=\"M19 3H5c-1.1 0-2 .9-2 2v14c0 1.1.9 2 2 2h14c1.1 0 2-.9 2-2V5c0-1.1-.9-2-2-2zM9 17H7v-7h2v7zm4 0h-2V7h2v10zm4 0h-2v-4h2v4z\"/>\n",
              "    </g>\n",
              "</svg>\n",
              "  </button>\n",
              "\n",
              "<style>\n",
              "  .colab-df-quickchart {\n",
              "      --bg-color: #E8F0FE;\n",
              "      --fill-color: #1967D2;\n",
              "      --hover-bg-color: #E2EBFA;\n",
              "      --hover-fill-color: #174EA6;\n",
              "      --disabled-fill-color: #AAA;\n",
              "      --disabled-bg-color: #DDD;\n",
              "  }\n",
              "\n",
              "  [theme=dark] .colab-df-quickchart {\n",
              "      --bg-color: #3B4455;\n",
              "      --fill-color: #D2E3FC;\n",
              "      --hover-bg-color: #434B5C;\n",
              "      --hover-fill-color: #FFFFFF;\n",
              "      --disabled-bg-color: #3B4455;\n",
              "      --disabled-fill-color: #666;\n",
              "  }\n",
              "\n",
              "  .colab-df-quickchart {\n",
              "    background-color: var(--bg-color);\n",
              "    border: none;\n",
              "    border-radius: 50%;\n",
              "    cursor: pointer;\n",
              "    display: none;\n",
              "    fill: var(--fill-color);\n",
              "    height: 32px;\n",
              "    padding: 0;\n",
              "    width: 32px;\n",
              "  }\n",
              "\n",
              "  .colab-df-quickchart:hover {\n",
              "    background-color: var(--hover-bg-color);\n",
              "    box-shadow: 0 1px 2px rgba(60, 64, 67, 0.3), 0 1px 3px 1px rgba(60, 64, 67, 0.15);\n",
              "    fill: var(--button-hover-fill-color);\n",
              "  }\n",
              "\n",
              "  .colab-df-quickchart-complete:disabled,\n",
              "  .colab-df-quickchart-complete:disabled:hover {\n",
              "    background-color: var(--disabled-bg-color);\n",
              "    fill: var(--disabled-fill-color);\n",
              "    box-shadow: none;\n",
              "  }\n",
              "\n",
              "  .colab-df-spinner {\n",
              "    border: 2px solid var(--fill-color);\n",
              "    border-color: transparent;\n",
              "    border-bottom-color: var(--fill-color);\n",
              "    animation:\n",
              "      spin 1s steps(1) infinite;\n",
              "  }\n",
              "\n",
              "  @keyframes spin {\n",
              "    0% {\n",
              "      border-color: transparent;\n",
              "      border-bottom-color: var(--fill-color);\n",
              "      border-left-color: var(--fill-color);\n",
              "    }\n",
              "    20% {\n",
              "      border-color: transparent;\n",
              "      border-left-color: var(--fill-color);\n",
              "      border-top-color: var(--fill-color);\n",
              "    }\n",
              "    30% {\n",
              "      border-color: transparent;\n",
              "      border-left-color: var(--fill-color);\n",
              "      border-top-color: var(--fill-color);\n",
              "      border-right-color: var(--fill-color);\n",
              "    }\n",
              "    40% {\n",
              "      border-color: transparent;\n",
              "      border-right-color: var(--fill-color);\n",
              "      border-top-color: var(--fill-color);\n",
              "    }\n",
              "    60% {\n",
              "      border-color: transparent;\n",
              "      border-right-color: var(--fill-color);\n",
              "    }\n",
              "    80% {\n",
              "      border-color: transparent;\n",
              "      border-right-color: var(--fill-color);\n",
              "      border-bottom-color: var(--fill-color);\n",
              "    }\n",
              "    90% {\n",
              "      border-color: transparent;\n",
              "      border-bottom-color: var(--fill-color);\n",
              "    }\n",
              "  }\n",
              "</style>\n",
              "\n",
              "  <script>\n",
              "    async function quickchart(key) {\n",
              "      const quickchartButtonEl =\n",
              "        document.querySelector('#' + key + ' button');\n",
              "      quickchartButtonEl.disabled = true;  // To prevent multiple clicks.\n",
              "      quickchartButtonEl.classList.add('colab-df-spinner');\n",
              "      try {\n",
              "        const charts = await google.colab.kernel.invokeFunction(\n",
              "            'suggestCharts', [key], {});\n",
              "      } catch (error) {\n",
              "        console.error('Error during call to suggestCharts:', error);\n",
              "      }\n",
              "      quickchartButtonEl.classList.remove('colab-df-spinner');\n",
              "      quickchartButtonEl.classList.add('colab-df-quickchart-complete');\n",
              "    }\n",
              "    (() => {\n",
              "      let quickchartButtonEl =\n",
              "        document.querySelector('#df-79574cb4-67c9-4256-9b98-17c1eb71779f button');\n",
              "      quickchartButtonEl.style.display =\n",
              "        google.colab.kernel.accessAllowed ? 'block' : 'none';\n",
              "    })();\n",
              "  </script>\n",
              "</div>\n",
              "\n",
              "  <div id=\"id_d827a580-e5d7-4f7d-b0c1-471a69b00503\">\n",
              "    <style>\n",
              "      .colab-df-generate {\n",
              "        background-color: #E8F0FE;\n",
              "        border: none;\n",
              "        border-radius: 50%;\n",
              "        cursor: pointer;\n",
              "        display: none;\n",
              "        fill: #1967D2;\n",
              "        height: 32px;\n",
              "        padding: 0 0 0 0;\n",
              "        width: 32px;\n",
              "      }\n",
              "\n",
              "      .colab-df-generate:hover {\n",
              "        background-color: #E2EBFA;\n",
              "        box-shadow: 0px 1px 2px rgba(60, 64, 67, 0.3), 0px 1px 3px 1px rgba(60, 64, 67, 0.15);\n",
              "        fill: #174EA6;\n",
              "      }\n",
              "\n",
              "      [theme=dark] .colab-df-generate {\n",
              "        background-color: #3B4455;\n",
              "        fill: #D2E3FC;\n",
              "      }\n",
              "\n",
              "      [theme=dark] .colab-df-generate:hover {\n",
              "        background-color: #434B5C;\n",
              "        box-shadow: 0px 1px 3px 1px rgba(0, 0, 0, 0.15);\n",
              "        filter: drop-shadow(0px 1px 2px rgba(0, 0, 0, 0.3));\n",
              "        fill: #FFFFFF;\n",
              "      }\n",
              "    </style>\n",
              "    <button class=\"colab-df-generate\" onclick=\"generateWithVariable('sum_c_test_nn')\"\n",
              "            title=\"Generate code using this dataframe.\"\n",
              "            style=\"display:none;\">\n",
              "\n",
              "  <svg xmlns=\"http://www.w3.org/2000/svg\" height=\"24px\"viewBox=\"0 0 24 24\"\n",
              "       width=\"24px\">\n",
              "    <path d=\"M7,19H8.4L18.45,9,17,7.55,7,17.6ZM5,21V16.75L18.45,3.32a2,2,0,0,1,2.83,0l1.4,1.43a1.91,1.91,0,0,1,.58,1.4,1.91,1.91,0,0,1-.58,1.4L9.25,21ZM18.45,9,17,7.55Zm-12,3A5.31,5.31,0,0,0,4.9,8.1,5.31,5.31,0,0,0,1,6.5,5.31,5.31,0,0,0,4.9,4.9,5.31,5.31,0,0,0,6.5,1,5.31,5.31,0,0,0,8.1,4.9,5.31,5.31,0,0,0,12,6.5,5.46,5.46,0,0,0,6.5,12Z\"/>\n",
              "  </svg>\n",
              "    </button>\n",
              "    <script>\n",
              "      (() => {\n",
              "      const buttonEl =\n",
              "        document.querySelector('#id_d827a580-e5d7-4f7d-b0c1-471a69b00503 button.colab-df-generate');\n",
              "      buttonEl.style.display =\n",
              "        google.colab.kernel.accessAllowed ? 'block' : 'none';\n",
              "\n",
              "      buttonEl.onclick = () => {\n",
              "        google.colab.notebook.generateWithVariable('sum_c_test_nn');\n",
              "      }\n",
              "      })();\n",
              "    </script>\n",
              "  </div>\n",
              "\n",
              "    </div>\n",
              "  </div>\n"
            ],
            "application/vnd.google.colaboratory.intrinsic+json": {
              "type": "dataframe",
              "variable_name": "sum_c_test_nn",
              "summary": "{\n  \"name\": \"sum_c_test_nn\",\n  \"rows\": 3,\n  \"fields\": [\n    {\n      \"column\": \"book_to_market\",\n      \"properties\": {\n        \"dtype\": \"number\",\n        \"std\": 0.03582840359248238,\n        \"min\": 0.5018399264029438,\n        \"max\": 0.5731370745170193,\n        \"num_unique_values\": 3,\n        \"samples\": [\n          0.5018399264029438,\n          0.531278748850046,\n          0.5731370745170193\n        ],\n        \"semantic_type\": \"\",\n        \"description\": \"\"\n      }\n    },\n    {\n      \"column\": \"market_cap\",\n      \"properties\": {\n        \"dtype\": \"number\",\n        \"std\": 0.09545209337979509,\n        \"min\": 0.531278748850046,\n        \"max\": 0.7221711131554738,\n        \"num_unique_values\": 3,\n        \"samples\": [\n          0.531278748850046,\n          0.6285648574057038,\n          0.7221711131554738\n        ],\n        \"semantic_type\": \"\",\n        \"description\": \"\"\n      }\n    },\n    {\n      \"column\": \"beta\",\n      \"properties\": {\n        \"dtype\": \"number\",\n        \"std\": 0.08889206419452927,\n        \"min\": 0.5637074517019319,\n        \"max\": 0.7221711131554738,\n        \"num_unique_values\": 3,\n        \"samples\": [\n          0.5731370745170193,\n          0.7221711131554738,\n          0.5637074517019319\n        ],\n        \"semantic_type\": \"\",\n        \"description\": \"\"\n      }\n    },\n    {\n      \"column\": \"feature_importance\",\n      \"properties\": {\n        \"dtype\": \"number\",\n        \"std\": 0.004038505731697613,\n        \"min\": 0.9912603495860166,\n        \"max\": 0.9993100275988961,\n        \"num_unique_values\": 3,\n        \"samples\": [\n          0.9958601655933763,\n          0.9912603495860166,\n          0.9993100275988961\n        ],\n        \"semantic_type\": \"\",\n        \"description\": \"\"\n      }\n    }\n  ]\n}"
            }
          },
          "metadata": {},
          "execution_count": 33
        }
      ],
      "source": [
        "sum_c_test_nn"
      ]
    },
    {
      "cell_type": "code",
      "execution_count": null,
      "metadata": {
        "colab": {
          "base_uri": "https://localhost:8080/"
        },
        "id": "t7V43IaU6tFi",
        "outputId": "c1595168-2d19-4a30-8a2d-969f586b6055"
      },
      "outputs": [
        {
          "output_type": "execute_result",
          "data": {
            "text/plain": [
              "<Axes: >"
            ]
          },
          "metadata": {},
          "execution_count": 34
        },
        {
          "output_type": "display_data",
          "data": {
            "text/plain": [
              "<Figure size 640x480 with 1 Axes>"
            ],
            "image/png": "[encoded data removed]"
          },
          "metadata": {}
        }
      ],
      "source": [
        "fi = pd.DataFrame(sum_test_nn[\"feature_importance\"])\n",
        "fi.loc[:, \"feature_importance_abs\"] = fi.feature_importance.abs()\n",
        "fi.sort_values(by=\"feature_importance_abs\", ascending=True, inplace =True)\n",
        "fi.plot.barh()"
      ]
    },
    {
      "cell_type": "markdown",
      "metadata": {
        "id": "YNt5yWoF5Be4"
      },
      "source": [
        "####linear regression feature importance"
      ]
    },
    {
      "cell_type": "code",
      "execution_count": null,
      "metadata": {
        "colab": {
          "base_uri": "https://localhost:8080/"
        },
        "id": "v3uYjnl8_6BQ",
        "outputId": "6a6b9eb1-de31-47d1-f9bb-e2c715cac1b2"
      },
      "outputs": [
        {
          "output_type": "stream",
          "name": "stdout",
          "text": [
            "book_to_market, Score: 0.00118\n",
            "market_cap, Score: -0.00005\n",
            "beta, Score: 0.02529\n"
          ]
        }
      ],
      "source": [
        "importance = log_reg.coef_\n",
        "# summarize feature importance\n",
        "for i,v in enumerate(importance):\n",
        " print('%s, Score: %.5f' % (X_train.columns[i],v))\n"
      ]
    },
    {
      "cell_type": "code",
      "execution_count": null,
      "metadata": {
        "colab": {
          "base_uri": "https://localhost:8080/"
        },
        "id": "6vXL-oX6wNXF",
        "outputId": "6f7cae02-39e8-487e-cc6c-099870cc8b76"
      },
      "outputs": [
        {
          "output_type": "execute_result",
          "data": {
            "text/plain": [
              "<Axes: >"
            ]
          },
          "metadata": {},
          "execution_count": 36
        },
        {
          "output_type": "display_data",
          "data": {
            "text/plain": [
              "<Figure size 640x480 with 1 Axes>"
            ],
            "image/png": "[encoded data removed]"
          },
          "metadata": {}
        }
      ],
      "source": [
        "log_reg_coef = pd.DataFrame(data = log_reg.coef_.flatten(), index = X_train.columns, columns=[\"reg_coef\"])\n",
        "log_reg_coef.loc[:, 'reg_coef_abs'] = log_reg_coef.reg_coef.abs()\n",
        "log_reg_coef.sort_values(by=\"reg_coef_abs\", ascending= True, inplace = True)\n",
        "log_reg_coef.plot.barh()\n"
      ]
    },
    {
      "cell_type": "markdown",
      "metadata": {
        "id": "mZEfTr7nQWt_"
      },
      "source": [
        "# Step 6"
      ]
    },
    {
      "cell_type": "markdown",
      "metadata": {
        "id": "TofsYIGIFAQc"
      },
      "source": [
        "###Install optuna"
      ]
    },
    {
      "cell_type": "code",
      "execution_count": null,
      "metadata": {
        "colab": {
          "base_uri": "https://localhost:8080/"
        },
        "id": "92zGZg7KQZ5h",
        "outputId": "d7b9c040-fcdc-4cd9-88e8-16b261989e2b"
      },
      "outputs": [
        {
          "output_type": "stream",
          "name": "stdout",
          "text": [
            "Collecting optuna\n",
            "  Downloading optuna-3.6.1-py3-none-any.whl (380 kB)\n",
            "\u001b[2K     \u001b[90m━━━━━━━━━━━━━━━━━━━━━━━━━━━━━━━━━━━━━━━━\u001b[0m \u001b[32m380.1/380.1 kB\u001b[0m \u001b[31m4.6 MB/s\u001b[0m eta \u001b[36m0:00:00\u001b[0m\n",
            "\u001b[?25hCollecting alembic>=1.5.0 (from optuna)\n",
            "  Downloading alembic-1.13.1-py3-none-any.whl (233 kB)\n",
            "\u001b[2K     \u001b[90m━━━━━━━━━━━━━━━━━━━━━━━━━━━━━━━━━━━━━━━━\u001b[0m \u001b[32m233.4/233.4 kB\u001b[0m \u001b[31m8.4 MB/s\u001b[0m eta \u001b[36m0:00:00\u001b[0m\n",
            "\u001b[?25hCollecting colorlog (from optuna)\n",
            "  Downloading colorlog-6.8.2-py3-none-any.whl (11 kB)\n",
            "Requirement already satisfied: numpy in /usr/local/lib/python3.10/dist-packages (from optuna) (1.25.2)\n",
            "Requirement already satisfied: packaging>=20.0 in /usr/local/lib/python3.10/dist-packages (from optuna) (24.0)\n",
            "Requirement already satisfied: sqlalchemy>=1.3.0 in /usr/local/lib/python3.10/dist-packages (from optuna) (2.0.29)\n",
            "Requirement already satisfied: tqdm in /usr/local/lib/python3.10/dist-packages (from optuna) (4.66.2)\n",
            "Requirement already satisfied: PyYAML in /usr/local/lib/python3.10/dist-packages (from optuna) (6.0.1)\n",
            "Collecting Mako (from alembic>=1.5.0->optuna)\n",
            "  Downloading Mako-1.3.3-py3-none-any.whl (78 kB)\n",
            "\u001b[2K     \u001b[90m━━━━━━━━━━━━━━━━━━━━━━━━━━━━━━━━━━━━━━━━\u001b[0m \u001b[32m78.8/78.8 kB\u001b[0m \u001b[31m8.9 MB/s\u001b[0m eta \u001b[36m0:00:00\u001b[0m\n",
            "\u001b[?25hRequirement already satisfied: typing-extensions>=4 in /usr/local/lib/python3.10/dist-packages (from alembic>=1.5.0->optuna) (4.11.0)\n",
            "Requirement already satisfied: greenlet!=0.4.17 in /usr/local/lib/python3.10/dist-packages (from sqlalchemy>=1.3.0->optuna) (3.0.3)\n",
            "Requirement already satisfied: MarkupSafe>=0.9.2 in /usr/local/lib/python3.10/dist-packages (from Mako->alembic>=1.5.0->optuna) (2.1.5)\n",
            "Installing collected packages: Mako, colorlog, alembic, optuna\n",
            "Successfully installed Mako-1.3.3 alembic-1.13.1 colorlog-6.8.2 optuna-3.6.1\n"
          ]
        }
      ],
      "source": [
        "!pip install optuna"
      ]
    },
    {
      "cell_type": "markdown",
      "metadata": {
        "id": "FGbL32REFFqD"
      },
      "source": [
        "###Define method \"objective\""
      ]
    },
    {
      "cell_type": "code",
      "execution_count": null,
      "metadata": {
        "colab": {
          "base_uri": "https://localhost:8080/"
        },
        "id": "q7-430OQbYDH",
        "outputId": "8fdf7067-6970-4e21-d252-d5389bb51237"
      },
      "outputs": [
        {
          "output_type": "stream",
          "name": "stderr",
          "text": [
            "[I 2024-04-27 00:39:43,803] A new study created in memory with name: no-name-287468c0-1879-4c5f-b0a8-2df06bb27683\n"
          ]
        },
        {
          "output_type": "stream",
          "name": "stdout",
          "text": [
            "136/136 [==============================] - 1s 6ms/step\n"
          ]
        },
        {
          "output_type": "stream",
          "name": "stderr",
          "text": [
            "[I 2024-04-27 00:39:53,302] Trial 0 finished with value: -0.6087299696194222 and parameters: {'n_layers': 3, 'n_units_l0': 32, 'a_fun_l0': 'sigmoid', 'n_units_l1': 4, 'a_fun_l1': 'relu', 'n_units_l2': 5, 'a_fun_l2': 'sigmoid', 'loss_fun': 'mean_absolute_error', 'optimizer': 'Adam', 'callback_patience': 5, 'training_epochs': 46}. Best is trial 0 with value: -0.6087299696194222.\n"
          ]
        },
        {
          "output_type": "stream",
          "name": "stdout",
          "text": [
            "136/136 [==============================] - 1s 8ms/step\n"
          ]
        },
        {
          "output_type": "stream",
          "name": "stderr",
          "text": [
            "[I 2024-04-27 00:40:06,443] Trial 1 finished with value: -0.6095082750962686 and parameters: {'n_layers': 1, 'n_units_l0': 13, 'a_fun_l0': 'sigmoid', 'loss_fun': 'mean_absolute_error', 'optimizer': 'RMSprop', 'callback_patience': 4, 'training_epochs': 33}. Best is trial 0 with value: -0.6087299696194222.\n"
          ]
        },
        {
          "output_type": "stream",
          "name": "stdout",
          "text": [
            "136/136 [==============================] - 1s 6ms/step\n"
          ]
        },
        {
          "output_type": "stream",
          "name": "stderr",
          "text": [
            "[I 2024-04-27 00:40:30,600] Trial 2 finished with value: -0.3800166931978448 and parameters: {'n_layers': 1, 'n_units_l0': 26, 'a_fun_l0': 'sigmoid', 'loss_fun': 'huber_loss', 'optimizer': 'RMSprop', 'callback_patience': 4, 'training_epochs': 68}. Best is trial 2 with value: -0.3800166931978448.\n"
          ]
        },
        {
          "output_type": "stream",
          "name": "stdout",
          "text": [
            "136/136 [==============================] - 0s 2ms/step\n"
          ]
        },
        {
          "output_type": "stream",
          "name": "stderr",
          "text": [
            "[I 2024-04-27 00:40:35,737] Trial 3 finished with value: -0.5143239524412602 and parameters: {'n_layers': 3, 'n_units_l0': 35, 'a_fun_l0': 'sigmoid', 'n_units_l1': 64, 'a_fun_l1': 'relu', 'n_units_l2': 7, 'a_fun_l2': 'sigmoid', 'loss_fun': 'huber_loss', 'optimizer': 'RMSprop', 'callback_patience': 5, 'training_epochs': 33}. Best is trial 2 with value: -0.3800166931978448.\n"
          ]
        },
        {
          "output_type": "stream",
          "name": "stdout",
          "text": [
            "136/136 [==============================] - 0s 2ms/step\n"
          ]
        },
        {
          "output_type": "stream",
          "name": "stderr",
          "text": [
            "[I 2024-04-27 00:40:45,798] Trial 4 finished with value: -0.521787116644703 and parameters: {'n_layers': 2, 'n_units_l0': 123, 'a_fun_l0': 'relu', 'n_units_l1': 17, 'a_fun_l1': 'sigmoid', 'loss_fun': 'mean_squared_error', 'optimizer': 'Adam', 'callback_patience': 5, 'training_epochs': 80}. Best is trial 2 with value: -0.3800166931978448.\n"
          ]
        },
        {
          "output_type": "stream",
          "name": "stdout",
          "text": [
            "136/136 [==============================] - 0s 2ms/step\n"
          ]
        },
        {
          "output_type": "stream",
          "name": "stderr",
          "text": [
            "[I 2024-04-27 00:40:52,891] Trial 5 finished with value: -0.5926852717773856 and parameters: {'n_layers': 3, 'n_units_l0': 18, 'a_fun_l0': 'relu', 'n_units_l1': 21, 'a_fun_l1': 'tanh', 'n_units_l2': 4, 'a_fun_l2': 'sigmoid', 'loss_fun': 'mean_squared_error', 'optimizer': 'Adam', 'callback_patience': 4, 'training_epochs': 90}. Best is trial 2 with value: -0.3800166931978448.\n"
          ]
        },
        {
          "output_type": "stream",
          "name": "stdout",
          "text": [
            "136/136 [==============================] - 0s 2ms/step\n"
          ]
        },
        {
          "output_type": "stream",
          "name": "stderr",
          "text": [
            "[I 2024-04-27 00:41:04,598] Trial 6 finished with value: -0.5039282781709018 and parameters: {'n_layers': 1, 'n_units_l0': 6, 'a_fun_l0': 'relu', 'loss_fun': 'mean_squared_error', 'optimizer': 'Adam', 'callback_patience': 2, 'training_epochs': 20}. Best is trial 2 with value: -0.3800166931978448.\n"
          ]
        },
        {
          "output_type": "stream",
          "name": "stdout",
          "text": [
            "136/136 [==============================] - 0s 2ms/step\n"
          ]
        },
        {
          "output_type": "stream",
          "name": "stderr",
          "text": [
            "[I 2024-04-27 00:41:10,919] Trial 7 finished with value: -0.5467412662800213 and parameters: {'n_layers': 1, 'n_units_l0': 42, 'a_fun_l0': 'relu', 'loss_fun': 'huber_loss', 'optimizer': 'Adam', 'callback_patience': 4, 'training_epochs': 46}. Best is trial 2 with value: -0.3800166931978448.\n"
          ]
        },
        {
          "output_type": "stream",
          "name": "stdout",
          "text": [
            "136/136 [==============================] - 0s 2ms/step\n"
          ]
        },
        {
          "output_type": "stream",
          "name": "stderr",
          "text": [
            "[I 2024-04-27 00:41:17,389] Trial 8 finished with value: -0.4929666656446028 and parameters: {'n_layers': 2, 'n_units_l0': 8, 'a_fun_l0': 'tanh', 'n_units_l1': 5, 'a_fun_l1': 'tanh', 'loss_fun': 'huber_loss', 'optimizer': 'Adam', 'callback_patience': 4, 'training_epochs': 24}. Best is trial 2 with value: -0.3800166931978448.\n"
          ]
        },
        {
          "output_type": "stream",
          "name": "stdout",
          "text": [
            "136/136 [==============================] - 0s 2ms/step\n"
          ]
        },
        {
          "output_type": "stream",
          "name": "stderr",
          "text": [
            "[I 2024-04-27 00:41:28,782] Trial 9 finished with value: -0.447884949480283 and parameters: {'n_layers': 1, 'n_units_l0': 19, 'a_fun_l0': 'relu', 'loss_fun': 'huber_loss', 'optimizer': 'RMSprop', 'callback_patience': 4, 'training_epochs': 51}. Best is trial 2 with value: -0.3800166931978448.\n"
          ]
        },
        {
          "output_type": "stream",
          "name": "stdout",
          "text": [
            "136/136 [==============================] - 0s 2ms/step\n"
          ]
        },
        {
          "output_type": "stream",
          "name": "stderr",
          "text": [
            "[I 2024-04-27 00:41:31,409] Trial 10 finished with value: -1.480899566332508 and parameters: {'n_layers': 2, 'n_units_l0': 84, 'a_fun_l0': 'tanh', 'n_units_l1': 106, 'a_fun_l1': 'sigmoid', 'loss_fun': 'huber_loss', 'optimizer': 'RMSprop', 'callback_patience': 1, 'training_epochs': 71}. Best is trial 2 with value: -0.3800166931978448.\n"
          ]
        },
        {
          "output_type": "stream",
          "name": "stdout",
          "text": [
            "136/136 [==============================] - 0s 2ms/step\n"
          ]
        },
        {
          "output_type": "stream",
          "name": "stderr",
          "text": [
            "[I 2024-04-27 00:41:39,460] Trial 11 finished with value: -0.532157788911598 and parameters: {'n_layers': 1, 'n_units_l0': 12, 'a_fun_l0': 'sigmoid', 'loss_fun': 'huber_loss', 'optimizer': 'RMSprop', 'callback_patience': 3, 'training_epochs': 61}. Best is trial 2 with value: -0.3800166931978448.\n"
          ]
        },
        {
          "output_type": "stream",
          "name": "stdout",
          "text": [
            "136/136 [==============================] - 0s 2ms/step\n"
          ]
        },
        {
          "output_type": "stream",
          "name": "stderr",
          "text": [
            "[I 2024-04-27 00:41:43,326] Trial 12 finished with value: -0.5145416806083303 and parameters: {'n_layers': 1, 'n_units_l0': 26, 'a_fun_l0': 'relu', 'loss_fun': 'huber_loss', 'optimizer': 'RMSprop', 'callback_patience': 3, 'training_epochs': 63}. Best is trial 2 with value: -0.3800166931978448.\n"
          ]
        },
        {
          "output_type": "stream",
          "name": "stdout",
          "text": [
            "136/136 [==============================] - 0s 2ms/step\n"
          ]
        },
        {
          "output_type": "stream",
          "name": "stderr",
          "text": [
            "[I 2024-04-27 00:41:48,366] Trial 13 finished with value: -0.5019901122659793 and parameters: {'n_layers': 1, 'n_units_l0': 4, 'a_fun_l0': 'sigmoid', 'loss_fun': 'huber_loss', 'optimizer': 'RMSprop', 'callback_patience': 2, 'training_epochs': 51}. Best is trial 2 with value: -0.3800166931978448.\n"
          ]
        },
        {
          "output_type": "stream",
          "name": "stdout",
          "text": [
            "136/136 [==============================] - 0s 2ms/step\n"
          ]
        },
        {
          "output_type": "stream",
          "name": "stderr",
          "text": [
            "[I 2024-04-27 00:41:54,730] Trial 14 finished with value: -0.5921602414736566 and parameters: {'n_layers': 2, 'n_units_l0': 59, 'a_fun_l0': 'tanh', 'n_units_l1': 10, 'a_fun_l1': 'sigmoid', 'loss_fun': 'huber_loss', 'optimizer': 'RMSprop', 'callback_patience': 3, 'training_epochs': 98}. Best is trial 2 with value: -0.3800166931978448.\n"
          ]
        },
        {
          "output_type": "stream",
          "name": "stdout",
          "text": [
            "136/136 [==============================] - 0s 2ms/step\n"
          ]
        },
        {
          "output_type": "stream",
          "name": "stderr",
          "text": [
            "[I 2024-04-27 00:42:05,895] Trial 15 finished with value: -0.4391955469556279 and parameters: {'n_layers': 1, 'n_units_l0': 18, 'a_fun_l0': 'relu', 'loss_fun': 'mean_absolute_error', 'optimizer': 'RMSprop', 'callback_patience': 4, 'training_epochs': 79}. Best is trial 2 with value: -0.3800166931978448.\n"
          ]
        },
        {
          "output_type": "stream",
          "name": "stdout",
          "text": [
            "136/136 [==============================] - 0s 3ms/step\n"
          ]
        },
        {
          "output_type": "stream",
          "name": "stderr",
          "text": [
            "[I 2024-04-27 00:42:12,377] Trial 16 finished with value: -0.41555638110103277 and parameters: {'n_layers': 2, 'n_units_l0': 11, 'a_fun_l0': 'sigmoid', 'n_units_l1': 46, 'a_fun_l1': 'tanh', 'loss_fun': 'mean_absolute_error', 'optimizer': 'RMSprop', 'callback_patience': 5, 'training_epochs': 79}. Best is trial 2 with value: -0.3800166931978448.\n"
          ]
        },
        {
          "output_type": "stream",
          "name": "stdout",
          "text": [
            "136/136 [==============================] - 0s 2ms/step\n"
          ]
        },
        {
          "output_type": "stream",
          "name": "stderr",
          "text": [
            "[I 2024-04-27 00:42:18,743] Trial 17 finished with value: -0.8553864352139211 and parameters: {'n_layers': 2, 'n_units_l0': 8, 'a_fun_l0': 'sigmoid', 'n_units_l1': 47, 'a_fun_l1': 'tanh', 'loss_fun': 'mean_absolute_error', 'optimizer': 'RMSprop', 'callback_patience': 5, 'training_epochs': 81}. Best is trial 2 with value: -0.3800166931978448.\n"
          ]
        },
        {
          "output_type": "stream",
          "name": "stdout",
          "text": [
            "136/136 [==============================] - 0s 2ms/step\n"
          ]
        },
        {
          "output_type": "stream",
          "name": "stderr",
          "text": [
            "[I 2024-04-27 00:42:24,926] Trial 18 finished with value: -0.5824650002357898 and parameters: {'n_layers': 2, 'n_units_l0': 12, 'a_fun_l0': 'sigmoid', 'n_units_l1': 38, 'a_fun_l1': 'tanh', 'loss_fun': 'mean_absolute_error', 'optimizer': 'RMSprop', 'callback_patience': 5, 'training_epochs': 71}. Best is trial 2 with value: -0.3800166931978448.\n"
          ]
        },
        {
          "output_type": "stream",
          "name": "stdout",
          "text": [
            "136/136 [==============================] - 0s 2ms/step\n"
          ]
        },
        {
          "output_type": "stream",
          "name": "stderr",
          "text": [
            "[I 2024-04-27 00:42:31,260] Trial 19 finished with value: -0.6479368379102457 and parameters: {'n_layers': 3, 'n_units_l0': 56, 'a_fun_l0': 'sigmoid', 'n_units_l1': 115, 'a_fun_l1': 'tanh', 'n_units_l2': 89, 'a_fun_l2': 'tanh', 'loss_fun': 'mean_absolute_error', 'optimizer': 'RMSprop', 'callback_patience': 2, 'training_epochs': 99}. Best is trial 2 with value: -0.3800166931978448.\n"
          ]
        }
      ],
      "source": [
        "import optuna\n",
        "\n",
        "def objective(trial):\n",
        "  n_layers = trial.suggest_int('n_layers',1,3)\n",
        "  my_model = tf.keras.Sequential()\n",
        "  my_model.add(tf.keras.layers.InputLayer(input_shape = X_train_s.shape[1]))\n",
        "\n",
        "  for i in range(n_layers):\n",
        "    num_hidden = trial.suggest_int(f'n_units_l{i}', 4, 128, log=True)\n",
        "    a_fun = trial.suggest_categorical(f'a_fun_l{i}', ['tanh','sigmoid','relu'])\n",
        "    my_model.add(tf.keras.layers.Dense(num_hidden, activation=a_fun))\n",
        "\n",
        "  my_model.add(tf.keras.layers.Dense(1, activation = output_fun))\n",
        "  loss_fun = trial.suggest_categorical(f'loss_fun', [\"mean_squared_error\",\"mean_absolute_error\",\"huber_loss\"])\n",
        "  optim= trial.suggest_categorical(f'optimizer', [\"Adam\",\"RMSprop\"])\n",
        "\n",
        "  my_model.compile(loss = loss_fun, optimizer=optim)\n",
        "\n",
        "  call_back_patience = trial.suggest_int(f'callback_patience',1,5)\n",
        "  my_callback = tf.keras.callbacks.EarlyStopping(monitor=\"val_loss\", patience = call_back_patience)\n",
        "\n",
        "  n_epochs = trial.suggest_int(f'training_epochs',10,100)\n",
        "  my_model.fit(X_train_s, y_train, epochs = n_epochs, validation_data=(X_test_s, y_test), callbacks = [my_callback], verbose=0)\n",
        "\n",
        "  y_test_pred = my_model.predict(X_test_s).flatten()\n",
        "  r2_test = r2_score(y_test,y_test_pred)\n",
        "  return r2_test\n",
        "\n",
        "study = optuna.create_study(direction=\"maximize\")\n",
        "study.optimize(objective, n_trials = 20 )"
      ]
    },
    {
      "cell_type": "markdown",
      "metadata": {
        "id": "7qnEke0XFRaD"
      },
      "source": [
        "### Find best hparams and predict"
      ]
    },
    {
      "cell_type": "code",
      "execution_count": null,
      "metadata": {
        "colab": {
          "base_uri": "https://localhost:8080/"
        },
        "id": "EEuFl-Wcj-29",
        "outputId": "e0e9b277-2c9d-4514-83b9-449be1d653ea"
      },
      "outputs": [
        {
          "output_type": "stream",
          "name": "stdout",
          "text": [
            "{'n_layers': 1, 'n_units_l0': 26, 'a_fun_l0': 'sigmoid', 'loss_fun': 'huber_loss', 'optimizer': 'RMSprop', 'callback_patience': 4, 'training_epochs': 68}\n"
          ]
        }
      ],
      "source": [
        "best_hparams = study.best_trial.params\n",
        "print(best_hparams)"
      ]
    },
    {
      "cell_type": "code",
      "execution_count": null,
      "metadata": {
        "colab": {
          "base_uri": "https://localhost:8080/"
        },
        "id": "xdxO3wUujKcC",
        "outputId": "d8bf54a8-2275-4e41-e1ee-460c742e3567"
      },
      "outputs": [
        {
          "output_type": "stream",
          "name": "stdout",
          "text": [
            "136/136 [==============================] - 1s 6ms/step\n"
          ]
        }
      ],
      "source": [
        "best_hparams_iterator = iter(study.best_trial.params)\n",
        "\n",
        "n_layers = best_hparams[next(best_hparams_iterator)]\n",
        "\n",
        "my_model = tf.keras.Sequential()\n",
        "my_model.add(tf.keras.layers.InputLayer(input_shape=X_train.shape[1]))\n",
        "\n",
        "for i in range(n_layers):\n",
        "  num_hidden = best_hparams[next(best_hparams_iterator)]\n",
        "  a_fun = best_hparams[next(best_hparams_iterator)]\n",
        "  my_model.add(tf.keras.layers.Dense(num_hidden, activation = a_fun))\n",
        "\n",
        "my_model.add(tf.keras.layers.Dense(1, activation = output_fun))\n",
        "\n",
        "my_model.compile(loss = best_hparams[\"loss_fun\"], optimizer = best_hparams[\"optimizer\"])\n",
        "my_callback = tf.keras.callbacks.EarlyStopping(monitor=\"val_loss\", patience = best_hparams['callback_patience'])\n",
        "my_model.fit(X_train_s, y_train, epochs = best_hparams['training_epochs'], validation_data = (X_val_s, y_val), callbacks=[my_callback], verbose=0)\n",
        "\n",
        "y_test_pred_with_best_hparams =  my_model.predict(X_test_s).flatten()\n",
        "optuna_nn_r2_score = r2_score(y_test, y_test_pred_with_best_hparams)"
      ]
    },
    {
      "cell_type": "markdown",
      "metadata": {
        "id": "T30k6MmGxiJo"
      },
      "source": [
        "### Mean-Absolute-Error"
      ]
    },
    {
      "cell_type": "code",
      "execution_count": null,
      "metadata": {
        "colab": {
          "base_uri": "https://localhost:8080/"
        },
        "id": "7XbmypqqxkOo",
        "outputId": "ebfb4281-836f-43d4-ae79-4fa0cccb7d49"
      },
      "outputs": [
        {
          "output_type": "stream",
          "name": "stdout",
          "text": [
            "0.1412019674320162\n"
          ]
        }
      ],
      "source": [
        "best_hparams_mae = mean_absolute_error(y_test_pred_with_best_hparams, y_test)\n",
        "print(best_hparams_mae)"
      ]
    },
    {
      "cell_type": "markdown",
      "metadata": {
        "id": "Mf2wQO_m2EqJ"
      },
      "source": [
        "#Step 7"
      ]
    },
    {
      "cell_type": "code",
      "execution_count": null,
      "metadata": {
        "id": "-RyhNh_V8QOn"
      },
      "outputs": [],
      "source": [
        "#Optuna Model\n",
        "sum_test_optuna_model, sum_c_test_optuna_model = feature_analysis(X_test_tensor, my_model, X_test.columns)"
      ]
    },
    {
      "cell_type": "code",
      "execution_count": null,
      "metadata": {
        "colab": {
          "base_uri": "https://localhost:8080/"
        },
        "id": "mWDG01H18WqA",
        "outputId": "159cd9e9-b0fe-4c3d-a4db-de59f4203415"
      },
      "outputs": [
        {
          "output_type": "execute_result",
          "data": {
            "text/plain": [
              "book_to_market   -0.133192\n",
              "market_cap        0.271642\n",
              "beta              0.595166\n",
              "Name: feature_importance, dtype: float64"
            ]
          },
          "metadata": {},
          "execution_count": 43
        }
      ],
      "source": [
        "sum_test_optuna_model[\"feature_importance\"]\n"
      ]
    },
    {
      "cell_type": "code",
      "execution_count": null,
      "metadata": {
        "colab": {
          "base_uri": "https://localhost:8080/"
        },
        "id": "p0CWsU0T93lY",
        "outputId": "60770c8f-3616-41a4-e9d4-79ebe8bb3e67"
      },
      "outputs": [
        {
          "output_type": "execute_result",
          "data": {
            "text/plain": [
              "                book_to_market  market_cap      beta  feature_importance\n",
              "book_to_market        0.661454    0.591536  0.544618             0.99609\n",
              "market_cap            0.591536    0.666283  0.517019             0.99425\n",
              "beta                  0.544618    0.517019  0.561868             0.99586"
            ],
            "text/html": [
              "\n",
              "  <div id=\"df-f438f7a3-c4aa-4de8-97c0-f00e7bf6bb3f\" class=\"colab-df-container\">\n",
              "    <div>\n",
              "<style scoped>\n",
              "    .dataframe tbody tr th:only-of-type {\n",
              "        vertical-align: middle;\n",
              "    }\n",
              "\n",
              "    .dataframe tbody tr th {\n",
              "        vertical-align: top;\n",
              "    }\n",
              "\n",
              "    .dataframe thead th {\n",
              "        text-align: right;\n",
              "    }\n",
              "</style>\n",
              "<table border=\"1\" class=\"dataframe\">\n",
              "  <thead>\n",
              "    <tr style=\"text-align: right;\">\n",
              "      <th></th>\n",
              "      <th>book_to_market</th>\n",
              "      <th>market_cap</th>\n",
              "      <th>beta</th>\n",
              "      <th>feature_importance</th>\n",
              "    </tr>\n",
              "  </thead>\n",
              "  <tbody>\n",
              "    <tr>\n",
              "      <th>book_to_market</th>\n",
              "      <td>0.661454</td>\n",
              "      <td>0.591536</td>\n",
              "      <td>0.544618</td>\n",
              "      <td>0.99609</td>\n",
              "    </tr>\n",
              "    <tr>\n",
              "      <th>market_cap</th>\n",
              "      <td>0.591536</td>\n",
              "      <td>0.666283</td>\n",
              "      <td>0.517019</td>\n",
              "      <td>0.99425</td>\n",
              "    </tr>\n",
              "    <tr>\n",
              "      <th>beta</th>\n",
              "      <td>0.544618</td>\n",
              "      <td>0.517019</td>\n",
              "      <td>0.561868</td>\n",
              "      <td>0.99586</td>\n",
              "    </tr>\n",
              "  </tbody>\n",
              "</table>\n",
              "</div>\n",
              "    <div class=\"colab-df-buttons\">\n",
              "\n",
              "  <div class=\"colab-df-container\">\n",
              "    <button class=\"colab-df-convert\" onclick=\"convertToInteractive('df-f438f7a3-c4aa-4de8-97c0-f00e7bf6bb3f')\"\n",
              "            title=\"Convert this dataframe to an interactive table.\"\n",
              "            style=\"display:none;\">\n",
              "\n",
              "  <svg xmlns=\"http://www.w3.org/2000/svg\" height=\"24px\" viewBox=\"0 -960 960 960\">\n",
              "    <path d=\"M120-120v-720h720v720H120Zm60-500h600v-160H180v160Zm220 220h160v-160H400v160Zm0 220h160v-160H400v160ZM180-400h160v-160H180v160Zm440 0h160v-160H620v160ZM180-180h160v-160H180v160Zm440 0h160v-160H620v160Z\"/>\n",
              "  </svg>\n",
              "    </button>\n",
              "\n",
              "  <style>\n",
              "    .colab-df-container {\n",
              "      display:flex;\n",
              "      gap: 12px;\n",
              "    }\n",
              "\n",
              "    .colab-df-convert {\n",
              "      background-color: #E8F0FE;\n",
              "      border: none;\n",
              "      border-radius: 50%;\n",
              "      cursor: pointer;\n",
              "      display: none;\n",
              "      fill: #1967D2;\n",
              "      height: 32px;\n",
              "      padding: 0 0 0 0;\n",
              "      width: 32px;\n",
              "    }\n",
              "\n",
              "    .colab-df-convert:hover {\n",
              "      background-color: #E2EBFA;\n",
              "      box-shadow: 0px 1px 2px rgba(60, 64, 67, 0.3), 0px 1px 3px 1px rgba(60, 64, 67, 0.15);\n",
              "      fill: #174EA6;\n",
              "    }\n",
              "\n",
              "    .colab-df-buttons div {\n",
              "      margin-bottom: 4px;\n",
              "    }\n",
              "\n",
              "    [theme=dark] .colab-df-convert {\n",
              "      background-color: #3B4455;\n",
              "      fill: #D2E3FC;\n",
              "    }\n",
              "\n",
              "    [theme=dark] .colab-df-convert:hover {\n",
              "      background-color: #434B5C;\n",
              "      box-shadow: 0px 1px 3px 1px rgba(0, 0, 0, 0.15);\n",
              "      filter: drop-shadow(0px 1px 2px rgba(0, 0, 0, 0.3));\n",
              "      fill: #FFFFFF;\n",
              "    }\n",
              "  </style>\n",
              "\n",
              "    <script>\n",
              "      const buttonEl =\n",
              "        document.querySelector('#df-f438f7a3-c4aa-4de8-97c0-f00e7bf6bb3f button.colab-df-convert');\n",
              "      buttonEl.style.display =\n",
              "        google.colab.kernel.accessAllowed ? 'block' : 'none';\n",
              "\n",
              "      async function convertToInteractive(key) {\n",
              "        const element = document.querySelector('#df-f438f7a3-c4aa-4de8-97c0-f00e7bf6bb3f');\n",
              "        const dataTable =\n",
              "          await google.colab.kernel.invokeFunction('convertToInteractive',\n",
              "                                                    [key], {});\n",
              "        if (!dataTable) return;\n",
              "\n",
              "        const docLinkHtml = 'Like what you see? Visit the ' +\n",
              "          '<a target=\"_blank\" href=https://colab.research.google.com/notebooks/data_table.ipynb>data table notebook</a>'\n",
              "          + ' to learn more about interactive tables.';\n",
              "        element.innerHTML = '';\n",
              "        dataTable['output_type'] = 'display_data';\n",
              "        await google.colab.output.renderOutput(dataTable, element);\n",
              "        const docLink = document.createElement('div');\n",
              "        docLink.innerHTML = docLinkHtml;\n",
              "        element.appendChild(docLink);\n",
              "      }\n",
              "    </script>\n",
              "  </div>\n",
              "\n",
              "\n",
              "<div id=\"df-8b6e3a78-9d08-4067-9be2-27359d626d36\">\n",
              "  <button class=\"colab-df-quickchart\" onclick=\"quickchart('df-8b6e3a78-9d08-4067-9be2-27359d626d36')\"\n",
              "            title=\"Suggest charts\"\n",
              "            style=\"display:none;\">\n",
              "\n",
              "<svg xmlns=\"http://www.w3.org/2000/svg\" height=\"24px\"viewBox=\"0 0 24 24\"\n",
              "     width=\"24px\">\n",
              "    <g>\n",
              "        <path d=\"M19 3H5c-1.1 0-2 .9-2 2v14c0 1.1.9 2 2 2h14c1.1 0 2-.9 2-2V5c0-1.1-.9-2-2-2zM9 17H7v-7h2v7zm4 0h-2V7h2v10zm4 0h-2v-4h2v4z\"/>\n",
              "    </g>\n",
              "</svg>\n",
              "  </button>\n",
              "\n",
              "<style>\n",
              "  .colab-df-quickchart {\n",
              "      --bg-color: #E8F0FE;\n",
              "      --fill-color: #1967D2;\n",
              "      --hover-bg-color: #E2EBFA;\n",
              "      --hover-fill-color: #174EA6;\n",
              "      --disabled-fill-color: #AAA;\n",
              "      --disabled-bg-color: #DDD;\n",
              "  }\n",
              "\n",
              "  [theme=dark] .colab-df-quickchart {\n",
              "      --bg-color: #3B4455;\n",
              "      --fill-color: #D2E3FC;\n",
              "      --hover-bg-color: #434B5C;\n",
              "      --hover-fill-color: #FFFFFF;\n",
              "      --disabled-bg-color: #3B4455;\n",
              "      --disabled-fill-color: #666;\n",
              "  }\n",
              "\n",
              "  .colab-df-quickchart {\n",
              "    background-color: var(--bg-color);\n",
              "    border: none;\n",
              "    border-radius: 50%;\n",
              "    cursor: pointer;\n",
              "    display: none;\n",
              "    fill: var(--fill-color);\n",
              "    height: 32px;\n",
              "    padding: 0;\n",
              "    width: 32px;\n",
              "  }\n",
              "\n",
              "  .colab-df-quickchart:hover {\n",
              "    background-color: var(--hover-bg-color);\n",
              "    box-shadow: 0 1px 2px rgba(60, 64, 67, 0.3), 0 1px 3px 1px rgba(60, 64, 67, 0.15);\n",
              "    fill: var(--button-hover-fill-color);\n",
              "  }\n",
              "\n",
              "  .colab-df-quickchart-complete:disabled,\n",
              "  .colab-df-quickchart-complete:disabled:hover {\n",
              "    background-color: var(--disabled-bg-color);\n",
              "    fill: var(--disabled-fill-color);\n",
              "    box-shadow: none;\n",
              "  }\n",
              "\n",
              "  .colab-df-spinner {\n",
              "    border: 2px solid var(--fill-color);\n",
              "    border-color: transparent;\n",
              "    border-bottom-color: var(--fill-color);\n",
              "    animation:\n",
              "      spin 1s steps(1) infinite;\n",
              "  }\n",
              "\n",
              "  @keyframes spin {\n",
              "    0% {\n",
              "      border-color: transparent;\n",
              "      border-bottom-color: var(--fill-color);\n",
              "      border-left-color: var(--fill-color);\n",
              "    }\n",
              "    20% {\n",
              "      border-color: transparent;\n",
              "      border-left-color: var(--fill-color);\n",
              "      border-top-color: var(--fill-color);\n",
              "    }\n",
              "    30% {\n",
              "      border-color: transparent;\n",
              "      border-left-color: var(--fill-color);\n",
              "      border-top-color: var(--fill-color);\n",
              "      border-right-color: var(--fill-color);\n",
              "    }\n",
              "    40% {\n",
              "      border-color: transparent;\n",
              "      border-right-color: var(--fill-color);\n",
              "      border-top-color: var(--fill-color);\n",
              "    }\n",
              "    60% {\n",
              "      border-color: transparent;\n",
              "      border-right-color: var(--fill-color);\n",
              "    }\n",
              "    80% {\n",
              "      border-color: transparent;\n",
              "      border-right-color: var(--fill-color);\n",
              "      border-bottom-color: var(--fill-color);\n",
              "    }\n",
              "    90% {\n",
              "      border-color: transparent;\n",
              "      border-bottom-color: var(--fill-color);\n",
              "    }\n",
              "  }\n",
              "</style>\n",
              "\n",
              "  <script>\n",
              "    async function quickchart(key) {\n",
              "      const quickchartButtonEl =\n",
              "        document.querySelector('#' + key + ' button');\n",
              "      quickchartButtonEl.disabled = true;  // To prevent multiple clicks.\n",
              "      quickchartButtonEl.classList.add('colab-df-spinner');\n",
              "      try {\n",
              "        const charts = await google.colab.kernel.invokeFunction(\n",
              "            'suggestCharts', [key], {});\n",
              "      } catch (error) {\n",
              "        console.error('Error during call to suggestCharts:', error);\n",
              "      }\n",
              "      quickchartButtonEl.classList.remove('colab-df-spinner');\n",
              "      quickchartButtonEl.classList.add('colab-df-quickchart-complete');\n",
              "    }\n",
              "    (() => {\n",
              "      let quickchartButtonEl =\n",
              "        document.querySelector('#df-8b6e3a78-9d08-4067-9be2-27359d626d36 button');\n",
              "      quickchartButtonEl.style.display =\n",
              "        google.colab.kernel.accessAllowed ? 'block' : 'none';\n",
              "    })();\n",
              "  </script>\n",
              "</div>\n",
              "\n",
              "  <div id=\"id_4cd4effe-0ba7-4b53-b841-48976ba1bf3c\">\n",
              "    <style>\n",
              "      .colab-df-generate {\n",
              "        background-color: #E8F0FE;\n",
              "        border: none;\n",
              "        border-radius: 50%;\n",
              "        cursor: pointer;\n",
              "        display: none;\n",
              "        fill: #1967D2;\n",
              "        height: 32px;\n",
              "        padding: 0 0 0 0;\n",
              "        width: 32px;\n",
              "      }\n",
              "\n",
              "      .colab-df-generate:hover {\n",
              "        background-color: #E2EBFA;\n",
              "        box-shadow: 0px 1px 2px rgba(60, 64, 67, 0.3), 0px 1px 3px 1px rgba(60, 64, 67, 0.15);\n",
              "        fill: #174EA6;\n",
              "      }\n",
              "\n",
              "      [theme=dark] .colab-df-generate {\n",
              "        background-color: #3B4455;\n",
              "        fill: #D2E3FC;\n",
              "      }\n",
              "\n",
              "      [theme=dark] .colab-df-generate:hover {\n",
              "        background-color: #434B5C;\n",
              "        box-shadow: 0px 1px 3px 1px rgba(0, 0, 0, 0.15);\n",
              "        filter: drop-shadow(0px 1px 2px rgba(0, 0, 0, 0.3));\n",
              "        fill: #FFFFFF;\n",
              "      }\n",
              "    </style>\n",
              "    <button class=\"colab-df-generate\" onclick=\"generateWithVariable('sum_c_test_optuna_model')\"\n",
              "            title=\"Generate code using this dataframe.\"\n",
              "            style=\"display:none;\">\n",
              "\n",
              "  <svg xmlns=\"http://www.w3.org/2000/svg\" height=\"24px\"viewBox=\"0 0 24 24\"\n",
              "       width=\"24px\">\n",
              "    <path d=\"M7,19H8.4L18.45,9,17,7.55,7,17.6ZM5,21V16.75L18.45,3.32a2,2,0,0,1,2.83,0l1.4,1.43a1.91,1.91,0,0,1,.58,1.4,1.91,1.91,0,0,1-.58,1.4L9.25,21ZM18.45,9,17,7.55Zm-12,3A5.31,5.31,0,0,0,4.9,8.1,5.31,5.31,0,0,0,1,6.5,5.31,5.31,0,0,0,4.9,4.9,5.31,5.31,0,0,0,6.5,1,5.31,5.31,0,0,0,8.1,4.9,5.31,5.31,0,0,0,12,6.5,5.46,5.46,0,0,0,6.5,12Z\"/>\n",
              "  </svg>\n",
              "    </button>\n",
              "    <script>\n",
              "      (() => {\n",
              "      const buttonEl =\n",
              "        document.querySelector('#id_4cd4effe-0ba7-4b53-b841-48976ba1bf3c button.colab-df-generate');\n",
              "      buttonEl.style.display =\n",
              "        google.colab.kernel.accessAllowed ? 'block' : 'none';\n",
              "\n",
              "      buttonEl.onclick = () => {\n",
              "        google.colab.notebook.generateWithVariable('sum_c_test_optuna_model');\n",
              "      }\n",
              "      })();\n",
              "    </script>\n",
              "  </div>\n",
              "\n",
              "    </div>\n",
              "  </div>\n"
            ],
            "application/vnd.google.colaboratory.intrinsic+json": {
              "type": "dataframe",
              "variable_name": "sum_c_test_optuna_model",
              "summary": "{\n  \"name\": \"sum_c_test_optuna_model\",\n  \"rows\": 3,\n  \"fields\": [\n    {\n      \"column\": \"book_to_market\",\n      \"properties\": {\n        \"dtype\": \"number\",\n        \"std\": 0.058793734288164506,\n        \"min\": 0.5446182152713891,\n        \"max\": 0.6614535418583257,\n        \"num_unique_values\": 3,\n        \"samples\": [\n          0.6614535418583257,\n          0.5915363385464582,\n          0.5446182152713891\n        ],\n        \"semantic_type\": \"\",\n        \"description\": \"\"\n      }\n    },\n    {\n      \"column\": \"market_cap\",\n      \"properties\": {\n        \"dtype\": \"number\",\n        \"std\": 0.0746320442508384,\n        \"min\": 0.5170193192272309,\n        \"max\": 0.6662833486660533,\n        \"num_unique_values\": 3,\n        \"samples\": [\n          0.5915363385464582,\n          0.6662833486660533,\n          0.5170193192272309\n        ],\n        \"semantic_type\": \"\",\n        \"description\": \"\"\n      }\n    },\n    {\n      \"column\": \"beta\",\n      \"properties\": {\n        \"dtype\": \"number\",\n        \"std\": 0.022622258018521198,\n        \"min\": 0.5170193192272309,\n        \"max\": 0.5618675252989881,\n        \"num_unique_values\": 3,\n        \"samples\": [\n          0.5446182152713891,\n          0.5170193192272309,\n          0.5618675252989881\n        ],\n        \"semantic_type\": \"\",\n        \"description\": \"\"\n      }\n    },\n    {\n      \"column\": \"feature_importance\",\n      \"properties\": {\n        \"dtype\": \"number\",\n        \"std\": 0.0010025066567480793,\n        \"min\": 0.9942502299908004,\n        \"max\": 0.9960901563937442,\n        \"num_unique_values\": 3,\n        \"samples\": [\n          0.9960901563937442,\n          0.9942502299908004,\n          0.9958601655933763\n        ],\n        \"semantic_type\": \"\",\n        \"description\": \"\"\n      }\n    }\n  ]\n}"
            }
          },
          "metadata": {},
          "execution_count": 44
        }
      ],
      "source": [
        "sum_c_test_optuna_model"
      ]
    },
    {
      "cell_type": "markdown",
      "metadata": {
        "id": "AfaPy4-RyGRV"
      },
      "source": [
        "# STEP 8"
      ]
    },
    {
      "cell_type": "code",
      "execution_count": null,
      "metadata": {
        "colab": {
          "base_uri": "https://localhost:8080/"
        },
        "id": "i9uF_LqDJuz1",
        "outputId": "74641234-035b-4087-fd48-6c3bf79ef253"
      },
      "outputs": [
        {
          "output_type": "stream",
          "name": "stdout",
          "text": [
            "Linear regression R2 score:-0.4750\n",
            "Neural network R2 score:-0.5508\n",
            "Optuna neural network R2 score:-0.5377\n"
          ]
        }
      ],
      "source": [
        "print(f'Linear regression R2 score:{lr_r2_score:.4f}')\n",
        "print(f'Neural network R2 score:{nn_r2_score:.4f}')\n",
        "print(f'Optuna neural network R2 score:{optuna_nn_r2_score:.4f}')"
      ]
    },
    {
      "cell_type": "code",
      "execution_count": null,
      "metadata": {
        "colab": {
          "base_uri": "https://localhost:8080/"
        },
        "id": "2dopGMVZyNJe",
        "outputId": "f040ea6f-d9a0-4a91-d4fd-da2769cdf6c5"
      },
      "outputs": [
        {
          "output_type": "stream",
          "name": "stdout",
          "text": [
            "mean_absolute_error of linear regression: 0.13710582505046462\n",
            "\n",
            "mean_absolute_error of neural network: 0.14104282506248952\n",
            "\n",
            "mean_absolute_error of neural network with optuna: 0.1412019674320162\n",
            "\n"
          ]
        }
      ],
      "source": [
        "print(\"mean_absolute_error of linear regression: \" + str(lr_mae)+ \"\\n\")\n",
        "\n",
        "print(\"mean_absolute_error of neural network: \" + str(nn_mae)+ \"\\n\")\n",
        "\n",
        "print(\"mean_absolute_error of neural network with optuna: \" + str(best_hparams_mae)+ \"\\n\")"
      ]
    },
    {
      "cell_type": "markdown",
      "metadata": {
        "id": "r5b2_ortFtLA"
      },
      "source": [
        "###Result\n",
        "\n",
        "\n",
        "\n",
        "*   Both models are well-trained and return results with a low margin of error.\n",
        "\n",
        "*   The neural network model is the model that gives the lowest mean absolute error value.\n",
        "\n",
        "*   Optuma NN trained would be expected to perform better than baseline NN.\n",
        "\n",
        "> The reasons may be too many hidden layers, too many epochs. This may change if the amount of hidden layer is reduced or the epoch value is reduced\n",
        "\n",
        "\n",
        "*   In general, all 3 models are close to each other and 0. This means that the 3 model can be used to analyze new data.\n",
        "\n",
        "\n",
        "\n",
        "\n",
        "\n",
        "\n",
        "\n",
        "\n",
        "\n",
        "\n"
      ]
    }
  ],
  "metadata": {
    "colab": {
      "collapsed_sections": [
        "3tzT1eTOy1WG",
        "8UL0T9NFy6bi",
        "k-gqx4Mx4tO7",
        "Mf2wQO_m2EqJ"
      ],
      "provenance": []
    },
    "kernelspec": {
      "display_name": "Python 3",
      "name": "python3"
    },
    "language_info": {
      "name": "python"
    }
  },
  "nbformat": 4,
  "nbformat_minor": 0
}